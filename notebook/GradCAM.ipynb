{
 "cells": [
  {
   "cell_type": "code",
   "execution_count": 2,
   "id": "49e5610c",
   "metadata": {},
   "outputs": [],
   "source": [
    "import warnings\n",
    "warnings.filterwarnings(action='ignore')\n",
    "\n",
    "import pandas as pd\n",
    "import numpy as np\n",
    "import cv2\n",
    "import os\n",
    "import matplotlib.pyplot as plt\n",
    "import os\n",
    "import torch\n",
    "import torch.nn as nn\n",
    "import torchvision\n",
    "import torchvision.datasets as datasets # 이미지 데이터셋 집합체\n",
    "import torchvision.transforms as transforms # 이미지 변환 툴\n",
    "from torch.utils.data import DataLoader, Dataset\n",
    "import torch.optim as optim # 최적화 알고리즘들이 포함힘\n",
    "\n",
    "import albumentations as A\n",
    "from albumentations import *\n",
    "from albumentations.pytorch import ToTensorV2\n",
    "\n",
    "from PIL import Image\n",
    "\n",
    "from pytorch_grad_cam import GradCAM\n",
    "from pytorch_grad_cam.utils.model_targets import ClassifierOutputTarget\n",
    "from pytorch_grad_cam.utils.image import show_cam_on_image\n",
    "from PIL import Image\n",
    "from torchvision.models import resnet50"
   ]
  },
  {
   "cell_type": "code",
   "execution_count": 3,
   "id": "dd859672",
   "metadata": {},
   "outputs": [],
   "source": [
    "model_path = \"/Users/rimo/Documents/paper/detector/classification/models/basic/20.pth\"\n",
    "image_folder = \"/Users/rimo/Documents/paper/data/crop_images/\"\n",
    "data_csv = \"/Users/rimo/Documents/paper/data/test_csv_.csv\""
   ]
  },
  {
   "cell_type": "code",
   "execution_count": 6,
   "id": "426b0937",
   "metadata": {},
   "outputs": [],
   "source": [
    "class resnet50(nn.Module):\n",
    "    def __init__(self, num_classes):\n",
    "        super(resnet50, self).__init__()\n",
    "        self.net = torch.hub.load('pytorch/vision:v0.10.0', 'resnet50', pretrained=True)\n",
    "        self.net.fc = nn.Linear(in_features = 2048, out_features=num_classes, bias=True)\n",
    "    def forward(self, x):\n",
    "        x = self.net(x)\n",
    "        return x"
   ]
  },
  {
   "cell_type": "code",
   "execution_count": 7,
   "id": "a12c92e6",
   "metadata": {},
   "outputs": [
    {
     "name": "stderr",
     "output_type": "stream",
     "text": [
      "Using cache found in /Users/rimo/.cache/torch/hub/pytorch_vision_v0.10.0\n"
     ]
    },
    {
     "ename": "FileNotFoundError",
     "evalue": "[Errno 2] No such file or directory: '/Users/rimo/Documents/paper/detector/classification/models/basic/20.pth'",
     "output_type": "error",
     "traceback": [
      "\u001b[0;31m---------------------------------------------------------------------------\u001b[0m",
      "\u001b[0;31mFileNotFoundError\u001b[0m                         Traceback (most recent call last)",
      "\u001b[1;32m/Users/rimo/Documents/paper/detector/notebook/GradCAM.ipynb Cell 4\u001b[0m in \u001b[0;36m<cell line: 5>\u001b[0;34m()\u001b[0m\n\u001b[1;32m      <a href='vscode-notebook-cell:/Users/rimo/Documents/paper/detector/notebook/GradCAM.ipynb#W3sZmlsZQ%3D%3D?line=2'>3</a>\u001b[0m model \u001b[39m=\u001b[39m resnet50(\u001b[39m4\u001b[39m)\n\u001b[1;32m      <a href='vscode-notebook-cell:/Users/rimo/Documents/paper/detector/notebook/GradCAM.ipynb#W3sZmlsZQ%3D%3D?line=3'>4</a>\u001b[0m device \u001b[39m=\u001b[39m torch\u001b[39m.\u001b[39mdevice(\u001b[39m\"\u001b[39m\u001b[39mcpu\u001b[39m\u001b[39m\"\u001b[39m)\n\u001b[0;32m----> <a href='vscode-notebook-cell:/Users/rimo/Documents/paper/detector/notebook/GradCAM.ipynb#W3sZmlsZQ%3D%3D?line=4'>5</a>\u001b[0m model\u001b[39m.\u001b[39mload_state_dict(torch\u001b[39m.\u001b[39;49mload(model_path, map_location\u001b[39m=\u001b[39;49mdevice)) \u001b[39m# trained model\u001b[39;00m\n\u001b[1;32m      <a href='vscode-notebook-cell:/Users/rimo/Documents/paper/detector/notebook/GradCAM.ipynb#W3sZmlsZQ%3D%3D?line=5'>6</a>\u001b[0m model \u001b[39m=\u001b[39m model\u001b[39m.\u001b[39meval()\n\u001b[1;32m      <a href='vscode-notebook-cell:/Users/rimo/Documents/paper/detector/notebook/GradCAM.ipynb#W3sZmlsZQ%3D%3D?line=7'>8</a>\u001b[0m data \u001b[39m=\u001b[39m pd\u001b[39m.\u001b[39mread_csv(data_csv)\n",
      "File \u001b[0;32m~/miniforge3/envs/particle/lib/python3.8/site-packages/torch/serialization.py:699\u001b[0m, in \u001b[0;36mload\u001b[0;34m(f, map_location, pickle_module, **pickle_load_args)\u001b[0m\n\u001b[1;32m    696\u001b[0m \u001b[39mif\u001b[39;00m \u001b[39m'\u001b[39m\u001b[39mencoding\u001b[39m\u001b[39m'\u001b[39m \u001b[39mnot\u001b[39;00m \u001b[39min\u001b[39;00m pickle_load_args\u001b[39m.\u001b[39mkeys():\n\u001b[1;32m    697\u001b[0m     pickle_load_args[\u001b[39m'\u001b[39m\u001b[39mencoding\u001b[39m\u001b[39m'\u001b[39m] \u001b[39m=\u001b[39m \u001b[39m'\u001b[39m\u001b[39mutf-8\u001b[39m\u001b[39m'\u001b[39m\n\u001b[0;32m--> 699\u001b[0m \u001b[39mwith\u001b[39;00m _open_file_like(f, \u001b[39m'\u001b[39;49m\u001b[39mrb\u001b[39;49m\u001b[39m'\u001b[39;49m) \u001b[39mas\u001b[39;00m opened_file:\n\u001b[1;32m    700\u001b[0m     \u001b[39mif\u001b[39;00m _is_zipfile(opened_file):\n\u001b[1;32m    701\u001b[0m         \u001b[39m# The zipfile reader is going to advance the current file position.\u001b[39;00m\n\u001b[1;32m    702\u001b[0m         \u001b[39m# If we want to actually tail call to torch.jit.load, we need to\u001b[39;00m\n\u001b[1;32m    703\u001b[0m         \u001b[39m# reset back to the original position.\u001b[39;00m\n\u001b[1;32m    704\u001b[0m         orig_position \u001b[39m=\u001b[39m opened_file\u001b[39m.\u001b[39mtell()\n",
      "File \u001b[0;32m~/miniforge3/envs/particle/lib/python3.8/site-packages/torch/serialization.py:230\u001b[0m, in \u001b[0;36m_open_file_like\u001b[0;34m(name_or_buffer, mode)\u001b[0m\n\u001b[1;32m    228\u001b[0m \u001b[39mdef\u001b[39;00m \u001b[39m_open_file_like\u001b[39m(name_or_buffer, mode):\n\u001b[1;32m    229\u001b[0m     \u001b[39mif\u001b[39;00m _is_path(name_or_buffer):\n\u001b[0;32m--> 230\u001b[0m         \u001b[39mreturn\u001b[39;00m _open_file(name_or_buffer, mode)\n\u001b[1;32m    231\u001b[0m     \u001b[39melse\u001b[39;00m:\n\u001b[1;32m    232\u001b[0m         \u001b[39mif\u001b[39;00m \u001b[39m'\u001b[39m\u001b[39mw\u001b[39m\u001b[39m'\u001b[39m \u001b[39min\u001b[39;00m mode:\n",
      "File \u001b[0;32m~/miniforge3/envs/particle/lib/python3.8/site-packages/torch/serialization.py:211\u001b[0m, in \u001b[0;36m_open_file.__init__\u001b[0;34m(self, name, mode)\u001b[0m\n\u001b[1;32m    210\u001b[0m \u001b[39mdef\u001b[39;00m \u001b[39m__init__\u001b[39m(\u001b[39mself\u001b[39m, name, mode):\n\u001b[0;32m--> 211\u001b[0m     \u001b[39msuper\u001b[39m(_open_file, \u001b[39mself\u001b[39m)\u001b[39m.\u001b[39m\u001b[39m__init__\u001b[39m(\u001b[39mopen\u001b[39;49m(name, mode))\n",
      "\u001b[0;31mFileNotFoundError\u001b[0m: [Errno 2] No such file or directory: '/Users/rimo/Documents/paper/detector/classification/models/basic/20.pth'"
     ]
    }
   ],
   "source": [
    "number_to_label = {0:\"good\", 1:\"double\", 2:\"pull\", 3:\"crack\"}\n",
    "w,h = 620, 250\n",
    "model = resnet50(4)\n",
    "device = torch.device(\"cpu\")\n",
    "model.load_state_dict(torch.load(model_path, map_location=device)) # trained model\n",
    "model = model.eval()\n",
    "\n",
    "data = pd.read_csv(data_csv)\n",
    "data = data[data[\"label\"] != 0]\n",
    "data = data[data[\"label\"] != 1]\n",
    "data = data[data[\"label\"] != 2]\n",
    "data = data[data[\"label\"] != -1]"
   ]
  },
  {
   "cell_type": "code",
   "execution_count": null,
   "id": "9516f6a1",
   "metadata": {},
   "outputs": [],
   "source": [
    "# 특정 이미지를 모델에 입력하기 위한 전처리 함수\n",
    "def transform_to_tensor(img_path):\n",
    "    img = cv2.imread(img_path)\n",
    "    img = Image.fromarray(img[:,:,:3])\n",
    "    img = torchvision.transforms.Resize((h,w))(img)\n",
    "    img = torchvision.transforms.ToTensor()(img)\n",
    "    img = torchvision.transforms.Normalize(mean=(0.485, 0.456, 0.406), std = (0.229, 0.224, 0.225))(img)\n",
    "    img = img.unsqueeze(0)\n",
    "    return img"
   ]
  },
  {
   "cell_type": "code",
   "execution_count": null,
   "id": "397fff22",
   "metadata": {},
   "outputs": [],
   "source": [
    "# 해당 모델에서 어떠한 layer에서 GradCAM을 추출해낼 것인지 선언\n",
    "target_layers = [model.net.layer4[-1].conv3]\n",
    "cam = GradCAM(model=model, target_layers=target_layers, use_cuda=False)"
   ]
  },
  {
   "cell_type": "code",
   "execution_count": null,
   "id": "8a14126b",
   "metadata": {},
   "outputs": [
    {
     "ename": "NameError",
     "evalue": "name 'plt' is not defined",
     "output_type": "error",
     "traceback": [
      "\u001b[0;31m---------------------------------------------------------------------------\u001b[0m",
      "\u001b[0;31mNameError\u001b[0m                                 Traceback (most recent call last)",
      "\u001b[1;32m/Users/rimo/Documents/paper/detector/notebook/GradCAM.ipynb Cell 7\u001b[0m in \u001b[0;36m<cell line: 4>\u001b[0;34m()\u001b[0m\n\u001b[1;32m      <a href='vscode-notebook-cell:/Users/rimo/Documents/paper/detector/notebook/GradCAM.ipynb#W6sZmlsZQ%3D%3D?line=0'>1</a>\u001b[0m \u001b[39m# 특정 이미지를 선택하여(ids) 해당 이미지로 예측을 진행하고, GradCAM을 적용해 시각화 해주는 단계\u001b[39;00m\n\u001b[1;32m      <a href='vscode-notebook-cell:/Users/rimo/Documents/paper/detector/notebook/GradCAM.ipynb#W6sZmlsZQ%3D%3D?line=1'>2</a>\u001b[0m \u001b[39m# ids = 100201\u001b[39;00m\n\u001b[1;32m      <a href='vscode-notebook-cell:/Users/rimo/Documents/paper/detector/notebook/GradCAM.ipynb#W6sZmlsZQ%3D%3D?line=2'>3</a>\u001b[0m n\u001b[39m=\u001b[39m\u001b[39m3\u001b[39m\n\u001b[0;32m----> <a href='vscode-notebook-cell:/Users/rimo/Documents/paper/detector/notebook/GradCAM.ipynb#W6sZmlsZQ%3D%3D?line=3'>4</a>\u001b[0m fig, axes \u001b[39m=\u001b[39m plt\u001b[39m.\u001b[39msubplots(\u001b[39m1\u001b[39m,\u001b[39m1\u001b[39m,figsize\u001b[39m=\u001b[39m(\u001b[39m10\u001b[39m,\u001b[39m10\u001b[39m))\n\u001b[1;32m      <a href='vscode-notebook-cell:/Users/rimo/Documents/paper/detector/notebook/GradCAM.ipynb#W6sZmlsZQ%3D%3D?line=4'>5</a>\u001b[0m axes \u001b[39m=\u001b[39m axes\u001b[39m.\u001b[39mflatten()\n\u001b[1;32m      <a href='vscode-notebook-cell:/Users/rimo/Documents/paper/detector/notebook/GradCAM.ipynb#W6sZmlsZQ%3D%3D?line=6'>7</a>\u001b[0m img_path \u001b[39m=\u001b[39m image_folder \u001b[39m+\u001b[39m data[\u001b[39m\"\u001b[39m\u001b[39mimage_path\u001b[39m\u001b[39m\"\u001b[39m]\u001b[39m.\u001b[39miloc[n]\n",
      "\u001b[0;31mNameError\u001b[0m: name 'plt' is not defined"
     ]
    }
   ],
   "source": [
    "# 특정 이미지를 선택하여(ids) 해당 이미지로 예측을 진행하고, GradCAM을 적용해 시각화 해주는 단계\n",
    "# ids = 100201\n",
    "n=3\n",
    "fig, axes = plt.subplots(1,1,figsize=(10,10))\n",
    "axes = axes.flatten()\n",
    "\n",
    "img_path = image_folder + data[\"image_path\"].iloc[n]\n",
    "print(\" GT  : \",number_to_label[data[\"label\"].iloc[n]])\n",
    "\n",
    "image = cv2.imread(img_path)/255 # 원본 시각화를 위한 image\n",
    "image = cv2.resize(image, dsize=(w, h))\n",
    "\n",
    "img = transform_to_tensor(img_path) # image transform\n",
    "pred = int(torch.argmax(torch.nn.Softmax()(model(img))).item()) # 예측값 반환\n",
    "targets = [ClassifierOutputTarget(pred)] # \n",
    "\n",
    "grayscale_cam = cam(input_tensor=img, targets=targets)\n",
    "grayscale_cam = grayscale_cam[0,:]\n",
    "visualization = show_cam_on_image(image, grayscale_cam, use_rgb=True)\n",
    "visualization = cv2.resize(visualization, dsize=(620,250))\n",
    "# axes[1].imshow(visualization)\n",
    "image = cv2.resize(image, dsize=(620,250))\n",
    "axes[0].imshow(image)\n",
    "# print(data[\"label_name\"][ids])\n",
    "print(\"Pred : \",number_to_label[pred])"
   ]
  },
  {
   "cell_type": "code",
   "execution_count": null,
   "id": "f90fcc03",
   "metadata": {},
   "outputs": [],
   "source": []
  },
  {
   "cell_type": "code",
   "execution_count": null,
   "id": "9de3c45a",
   "metadata": {},
   "outputs": [],
   "source": []
  },
  {
   "cell_type": "code",
   "execution_count": null,
   "id": "03541a43",
   "metadata": {},
   "outputs": [],
   "source": []
  }
 ],
 "metadata": {
  "kernelspec": {
   "display_name": "particle",
   "language": "python",
   "name": "python3"
  },
  "language_info": {
   "codemirror_mode": {
    "name": "ipython",
    "version": 3
   },
   "file_extension": ".py",
   "mimetype": "text/x-python",
   "name": "python",
   "nbconvert_exporter": "python",
   "pygments_lexer": "ipython3",
   "version": "3.8.13"
  },
  "vscode": {
   "interpreter": {
    "hash": "515123c40d576b8cafb07429bcccbbd0f72c79aff9bd6b50b9059a4e92bce6eb"
   }
  }
 },
 "nbformat": 4,
 "nbformat_minor": 5
}
