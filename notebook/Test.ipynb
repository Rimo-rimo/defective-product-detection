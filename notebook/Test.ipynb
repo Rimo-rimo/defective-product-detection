{
 "cells": [
  {
   "cell_type": "code",
   "execution_count": 28,
   "id": "37252a98",
   "metadata": {},
   "outputs": [],
   "source": [
    "from sklearn.metrics import precision_score, classification_report\n",
    "import pandas as pd\n",
    "import warnings\n",
    "warnings.filterwarnings(\"ignore\")"
   ]
  },
  {
   "cell_type": "code",
   "execution_count": 16,
   "id": "db030db5",
   "metadata": {},
   "outputs": [],
   "source": [
    "a = [1,2,3,4,1,2,3,4]\n",
    "b = [1,2,3,4,2,1,1,5]"
   ]
  },
  {
   "cell_type": "code",
   "execution_count": 29,
   "id": "4bbb38c5",
   "metadata": {},
   "outputs": [],
   "source": [
    "re = classification_report(a,b,output_dict = True)"
   ]
  },
  {
   "cell_type": "code",
   "execution_count": 32,
   "id": "9a736ca1",
   "metadata": {},
   "outputs": [
    {
     "data": {
      "text/plain": [
       "{'1': {'precision': 0.3333333333333333,\n",
       "  'recall': 0.5,\n",
       "  'f1-score': 0.4,\n",
       "  'support': 2},\n",
       " '2': {'precision': 0.5, 'recall': 0.5, 'f1-score': 0.5, 'support': 2},\n",
       " '3': {'precision': 1.0,\n",
       "  'recall': 0.5,\n",
       "  'f1-score': 0.6666666666666666,\n",
       "  'support': 2},\n",
       " '4': {'precision': 1.0,\n",
       "  'recall': 0.5,\n",
       "  'f1-score': 0.6666666666666666,\n",
       "  'support': 2},\n",
       " '5': {'precision': 0.0, 'recall': 0.0, 'f1-score': 0.0, 'support': 0},\n",
       " 'accuracy': 0.5,\n",
       " 'macro avg': {'precision': 0.5666666666666667,\n",
       "  'recall': 0.4,\n",
       "  'f1-score': 0.44666666666666666,\n",
       "  'support': 8},\n",
       " 'weighted avg': {'precision': 0.7083333333333333,\n",
       "  'recall': 0.5,\n",
       "  'f1-score': 0.5583333333333333,\n",
       "  'support': 8}}"
      ]
     },
     "execution_count": 32,
     "metadata": {},
     "output_type": "execute_result"
    }
   ],
   "source": [
    "re"
   ]
  },
  {
   "cell_type": "code",
   "execution_count": 39,
   "id": "1f6b206d",
   "metadata": {},
   "outputs": [
    {
     "data": {
      "text/plain": [
       "0.5"
      ]
     },
     "execution_count": 39,
     "metadata": {},
     "output_type": "execute_result"
    }
   ],
   "source": [
    "re[\"accuracy\"]"
   ]
  },
  {
   "cell_type": "code",
   "execution_count": 37,
   "id": "c74887be",
   "metadata": {},
   "outputs": [],
   "source": [
    "result = dict()"
   ]
  },
  {
   "cell_type": "code",
   "execution_count": 38,
   "id": "5cc23d8c",
   "metadata": {},
   "outputs": [
    {
     "ename": "NameError",
     "evalue": "name 'report' is not defined",
     "output_type": "error",
     "traceback": [
      "\u001b[0;31m---------------------------------------------------------------------------\u001b[0m",
      "\u001b[0;31mNameError\u001b[0m                                 Traceback (most recent call last)",
      "Input \u001b[0;32mIn [38]\u001b[0m, in \u001b[0;36m<cell line: 1>\u001b[0;34m()\u001b[0m\n\u001b[0;32m----> 1\u001b[0m result[\u001b[38;5;124m\"\u001b[39m\u001b[38;5;124mgood_precision\u001b[39m\u001b[38;5;124m\"\u001b[39m] \u001b[38;5;241m=\u001b[39m \u001b[43mreport\u001b[49m[\u001b[38;5;124m\"\u001b[39m\u001b[38;5;124m0\u001b[39m\u001b[38;5;124m\"\u001b[39m][\u001b[38;5;124m\"\u001b[39m\u001b[38;5;124mprecision\u001b[39m\u001b[38;5;124m\"\u001b[39m]\n\u001b[1;32m      2\u001b[0m result[\u001b[38;5;124m\"\u001b[39m\u001b[38;5;124mgood_F1-score\u001b[39m\u001b[38;5;124m\"\u001b[39m] \u001b[38;5;241m=\u001b[39m report[\u001b[38;5;124m\"\u001b[39m\u001b[38;5;124m0\u001b[39m\u001b[38;5;124m\"\u001b[39m][\u001b[38;5;124m\"\u001b[39m\u001b[38;5;124mf1-score\u001b[39m\u001b[38;5;124m\"\u001b[39m]\n\u001b[1;32m      3\u001b[0m result[\u001b[38;5;124m\"\u001b[39m\u001b[38;5;124mgood_recall\u001b[39m\u001b[38;5;124m\"\u001b[39m] \u001b[38;5;241m=\u001b[39m report[\u001b[38;5;124m\"\u001b[39m\u001b[38;5;124m0\u001b[39m\u001b[38;5;124m\"\u001b[39m][\u001b[38;5;124m\"\u001b[39m\u001b[38;5;124mrecall\u001b[39m\u001b[38;5;124m\"\u001b[39m]\n",
      "\u001b[0;31mNameError\u001b[0m: name 'report' is not defined"
     ]
    }
   ],
   "source": [
    "result[\"good_precision\"] = report[\"0\"][\"precision\"]\n",
    "result[\"good_F1-score\"] = report[\"0\"][\"f1-score\"]\n",
    "result[\"good_recall\"] = report[\"0\"][\"recall\"]\n",
    "\n",
    "result[\"crack_precision\"] = report[\"1\"][\"precision\"]\n",
    "result[\"crack_F1-score\"] = report[\"1\"][\"f1-score\"]\n",
    "result[\"crack_recall\"] = report[\"1\"][\"recall\"]\n",
    "\n",
    "result[\"pull_precision\"] = report[\"2\"][\"precision\"]\n",
    "result[\"pull_F1-score\"] = report[\"2\"][\"f1-score\"]\n",
    "result[\"pull_recall\"] = report[\"2\"][\"recall\"]\n",
    "\n",
    "result[\"double_precision\"] = report[\"3\"][\"precision\"]\n",
    "result[\"double_F1-score\"] = report[\"3\"][\"f1-score\"]\n",
    "result[\"double_recall\"] = report[\"3\"][\"recall\"]\n",
    "\n",
    "result[\"ACC\"] = report[\"accuracy\"]\n",
    "result[\"Precision\"] = report[\"macro avg\"][\"precisiion\"]\n",
    "result[\"Recall\"] = report[\"macro avg\"][\"recall\"]\n",
    "result[\"F1-Score\"] = report[\"macro avg\"][\"f1-score\"]"
   ]
  },
  {
   "cell_type": "code",
   "execution_count": null,
   "id": "908d4e6a",
   "metadata": {},
   "outputs": [],
   "source": []
  }
 ],
 "metadata": {
  "kernelspec": {
   "display_name": "particle",
   "language": "python",
   "name": "particle"
  },
  "language_info": {
   "codemirror_mode": {
    "name": "ipython",
    "version": 3
   },
   "file_extension": ".py",
   "mimetype": "text/x-python",
   "name": "python",
   "nbconvert_exporter": "python",
   "pygments_lexer": "ipython3",
   "version": "3.8.13"
  }
 },
 "nbformat": 4,
 "nbformat_minor": 5
}
