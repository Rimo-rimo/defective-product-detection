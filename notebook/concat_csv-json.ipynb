{
 "cells": [
  {
   "cell_type": "code",
   "execution_count": 67,
   "metadata": {},
   "outputs": [],
   "source": [
    "from pycocotools.coco import COCO\n",
    "import json\n",
    "import os\n",
    "import cv2\n",
    "import matplotlib.pyplot as plt\n",
    "import pandas as pd"
   ]
  },
  {
   "cell_type": "code",
   "execution_count": 68,
   "metadata": {},
   "outputs": [
    {
     "name": "stdout",
     "output_type": "stream",
     "text": [
      "loading annotations into memory...\n",
      "Done (t=0.02s)\n",
      "creating index...\n",
      "index created!\n"
     ]
    }
   ],
   "source": [
    "json_path = \"/Users/rimo/Documents/paper/data/data.json\"\n",
    "data_csv = \"/Users/rimo/Documents/paper/data/test_csv_.csv\"\n",
    "coco = COCO(json_path)\n",
    "data = pd.read_csv(data_csv)"
   ]
  },
  {
   "cell_type": "code",
   "execution_count": 69,
   "metadata": {},
   "outputs": [],
   "source": [
    "for i in range(1,2454,1):\n",
    "    coco_img = coco.loadImgs(i)[0]\n",
    "    img_name = coco_img[\"file_name\"].split(\"/\")[-1]\n",
    "    img_id = coco_img[\"id\"]\n",
    "    data.loc[data[\"image_path\"] == img_name, \"image_id\"] = int(img_id)"
   ]
  },
  {
   "cell_type": "code",
   "execution_count": 70,
   "metadata": {},
   "outputs": [
    {
     "data": {
      "text/html": [
       "<div>\n",
       "<style scoped>\n",
       "    .dataframe tbody tr th:only-of-type {\n",
       "        vertical-align: middle;\n",
       "    }\n",
       "\n",
       "    .dataframe tbody tr th {\n",
       "        vertical-align: top;\n",
       "    }\n",
       "\n",
       "    .dataframe thead th {\n",
       "        text-align: right;\n",
       "    }\n",
       "</style>\n",
       "<table border=\"1\" class=\"dataframe\">\n",
       "  <thead>\n",
       "    <tr style=\"text-align: right;\">\n",
       "      <th></th>\n",
       "      <th>image_path</th>\n",
       "      <th>label_path</th>\n",
       "      <th>anns</th>\n",
       "      <th>class</th>\n",
       "      <th>label</th>\n",
       "      <th>image_id</th>\n",
       "    </tr>\n",
       "  </thead>\n",
       "  <tbody>\n",
       "    <tr>\n",
       "      <th>0</th>\n",
       "      <td>Ch00_4422_널링찍힘_2.jpg</td>\n",
       "      <td>Ch00_4422_널링찍힘_2.txt</td>\n",
       "      <td>['2']</td>\n",
       "      <td>널링찍힘</td>\n",
       "      <td>3</td>\n",
       "      <td>2290.0</td>\n",
       "    </tr>\n",
       "    <tr>\n",
       "      <th>1</th>\n",
       "      <td>Ch01_1281_널링양품_1.jpg</td>\n",
       "      <td>Ch01_1281_널링양품_1.txt</td>\n",
       "      <td>['0', '1']</td>\n",
       "      <td>널링양품</td>\n",
       "      <td>0</td>\n",
       "      <td>938.0</td>\n",
       "    </tr>\n",
       "    <tr>\n",
       "      <th>2</th>\n",
       "      <td>Ch00_5020_리벳미압입_2.jpg</td>\n",
       "      <td>Ch00_5020_리벳미압입_2.txt</td>\n",
       "      <td>['0', '1']</td>\n",
       "      <td>리벳미압입</td>\n",
       "      <td>-1</td>\n",
       "      <td>242.0</td>\n",
       "    </tr>\n",
       "    <tr>\n",
       "      <th>3</th>\n",
       "      <td>Ch00_549_널링밀림_1.jpg</td>\n",
       "      <td>Ch00_549_널링밀림_1.txt</td>\n",
       "      <td>['3']</td>\n",
       "      <td>널링밀림</td>\n",
       "      <td>2</td>\n",
       "      <td>528.0</td>\n",
       "    </tr>\n",
       "    <tr>\n",
       "      <th>4</th>\n",
       "      <td>Ch00_108_널링이중선_2.jpg</td>\n",
       "      <td>Ch00_108_널링이중선_2.txt</td>\n",
       "      <td>['4']</td>\n",
       "      <td>널링이중선</td>\n",
       "      <td>1</td>\n",
       "      <td>2017.0</td>\n",
       "    </tr>\n",
       "    <tr>\n",
       "      <th>...</th>\n",
       "      <td>...</td>\n",
       "      <td>...</td>\n",
       "      <td>...</td>\n",
       "      <td>...</td>\n",
       "      <td>...</td>\n",
       "      <td>...</td>\n",
       "    </tr>\n",
       "    <tr>\n",
       "      <th>486</th>\n",
       "      <td>Ch01_265_널링이중선_2.jpg</td>\n",
       "      <td>Ch01_265_널링이중선_2.txt</td>\n",
       "      <td>['4']</td>\n",
       "      <td>널링이중선</td>\n",
       "      <td>1</td>\n",
       "      <td>1913.0</td>\n",
       "    </tr>\n",
       "    <tr>\n",
       "      <th>487</th>\n",
       "      <td>Ch01_1251_널링양품_1.jpg</td>\n",
       "      <td>Ch01_1251_널링양품_1.txt</td>\n",
       "      <td>['0', '1']</td>\n",
       "      <td>널링양품</td>\n",
       "      <td>0</td>\n",
       "      <td>908.0</td>\n",
       "    </tr>\n",
       "    <tr>\n",
       "      <th>488</th>\n",
       "      <td>Ch01_1322_널링양품_1.jpg</td>\n",
       "      <td>Ch01_1322_널링양품_1.txt</td>\n",
       "      <td>['0', '1']</td>\n",
       "      <td>널링양품</td>\n",
       "      <td>0</td>\n",
       "      <td>979.0</td>\n",
       "    </tr>\n",
       "    <tr>\n",
       "      <th>489</th>\n",
       "      <td>Ch00_1548_널링양품_1.jpg</td>\n",
       "      <td>Ch00_1548_널링양품_1.txt</td>\n",
       "      <td>['0', '1']</td>\n",
       "      <td>널링양품</td>\n",
       "      <td>0</td>\n",
       "      <td>1827.0</td>\n",
       "    </tr>\n",
       "    <tr>\n",
       "      <th>490</th>\n",
       "      <td>Ch01_1104_널링양품_1.jpg</td>\n",
       "      <td>Ch01_1104_널링양품_1.txt</td>\n",
       "      <td>['0', '1']</td>\n",
       "      <td>널링양품</td>\n",
       "      <td>0</td>\n",
       "      <td>761.0</td>\n",
       "    </tr>\n",
       "  </tbody>\n",
       "</table>\n",
       "<p>491 rows × 6 columns</p>\n",
       "</div>"
      ],
      "text/plain": [
       "                image_path             label_path        anns  class  label  \\\n",
       "0     Ch00_4422_널링찍힘_2.jpg   Ch00_4422_널링찍힘_2.txt       ['2']   널링찍힘      3   \n",
       "1     Ch01_1281_널링양품_1.jpg   Ch01_1281_널링양품_1.txt  ['0', '1']   널링양품      0   \n",
       "2    Ch00_5020_리벳미압입_2.jpg  Ch00_5020_리벳미압입_2.txt  ['0', '1']  리벳미압입     -1   \n",
       "3      Ch00_549_널링밀림_1.jpg    Ch00_549_널링밀림_1.txt       ['3']   널링밀림      2   \n",
       "4     Ch00_108_널링이중선_2.jpg   Ch00_108_널링이중선_2.txt       ['4']  널링이중선      1   \n",
       "..                     ...                    ...         ...    ...    ...   \n",
       "486   Ch01_265_널링이중선_2.jpg   Ch01_265_널링이중선_2.txt       ['4']  널링이중선      1   \n",
       "487   Ch01_1251_널링양품_1.jpg   Ch01_1251_널링양품_1.txt  ['0', '1']   널링양품      0   \n",
       "488   Ch01_1322_널링양품_1.jpg   Ch01_1322_널링양품_1.txt  ['0', '1']   널링양품      0   \n",
       "489   Ch00_1548_널링양품_1.jpg   Ch00_1548_널링양품_1.txt  ['0', '1']   널링양품      0   \n",
       "490   Ch01_1104_널링양품_1.jpg   Ch01_1104_널링양품_1.txt  ['0', '1']   널링양품      0   \n",
       "\n",
       "     image_id  \n",
       "0      2290.0  \n",
       "1       938.0  \n",
       "2       242.0  \n",
       "3       528.0  \n",
       "4      2017.0  \n",
       "..        ...  \n",
       "486    1913.0  \n",
       "487     908.0  \n",
       "488     979.0  \n",
       "489    1827.0  \n",
       "490     761.0  \n",
       "\n",
       "[491 rows x 6 columns]"
      ]
     },
     "execution_count": 70,
     "metadata": {},
     "output_type": "execute_result"
    }
   ],
   "source": [
    "data"
   ]
  },
  {
   "cell_type": "code",
   "execution_count": 74,
   "metadata": {},
   "outputs": [],
   "source": [
    "# data.to_csv(\"/Users/rimo/Documents/paper/data/test_for_cam-bbox.csv\", index=False)"
   ]
  },
  {
   "cell_type": "code",
   "execution_count": null,
   "metadata": {},
   "outputs": [],
   "source": []
  }
 ],
 "metadata": {
  "kernelspec": {
   "display_name": "particle",
   "language": "python",
   "name": "python3"
  },
  "language_info": {
   "codemirror_mode": {
    "name": "ipython",
    "version": 3
   },
   "file_extension": ".py",
   "mimetype": "text/x-python",
   "name": "python",
   "nbconvert_exporter": "python",
   "pygments_lexer": "ipython3",
   "version": "3.8.13"
  },
  "orig_nbformat": 4,
  "vscode": {
   "interpreter": {
    "hash": "515123c40d576b8cafb07429bcccbbd0f72c79aff9bd6b50b9059a4e92bce6eb"
   }
  }
 },
 "nbformat": 4,
 "nbformat_minor": 2
}
