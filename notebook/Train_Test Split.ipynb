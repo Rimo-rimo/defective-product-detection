{
 "cells": [
  {
   "cell_type": "code",
   "execution_count": 8,
   "id": "427c80bc",
   "metadata": {},
   "outputs": [],
   "source": [
    "from sklearn.model_selection import train_test_split\n",
    "import os\n",
    "import pandas as pd"
   ]
  },
  {
   "cell_type": "code",
   "execution_count": 9,
   "id": "7aa5f64a",
   "metadata": {},
   "outputs": [],
   "source": [
    "data = pd.read_csv(\"../data/labels.csv\")"
   ]
  },
  {
   "cell_type": "code",
   "execution_count": 48,
   "id": "d60d146e",
   "metadata": {},
   "outputs": [],
   "source": [
    "data.loc[data[\"class\"]==\"널링찍힘.txt\", \"class\"] = \"널링찍힘\""
   ]
  },
  {
   "cell_type": "code",
   "execution_count": 54,
   "id": "21793613",
   "metadata": {},
   "outputs": [
    {
     "data": {
      "text/plain": [
       "널링양품     1173\n",
       "널링이중선     361\n",
       "리벳미압입     356\n",
       "널링밀림      300\n",
       "널링찍힘      263\n",
       "Name: class, dtype: int64"
      ]
     },
     "execution_count": 54,
     "metadata": {},
     "output_type": "execute_result"
    }
   ],
   "source": [
    "data[\"class\"].value_counts()"
   ]
  },
  {
   "cell_type": "code",
   "execution_count": 75,
   "id": "698ec402",
   "metadata": {},
   "outputs": [
    {
     "data": {
      "text/html": [
       "<div>\n",
       "<style scoped>\n",
       "    .dataframe tbody tr th:only-of-type {\n",
       "        vertical-align: middle;\n",
       "    }\n",
       "\n",
       "    .dataframe tbody tr th {\n",
       "        vertical-align: top;\n",
       "    }\n",
       "\n",
       "    .dataframe thead th {\n",
       "        text-align: right;\n",
       "    }\n",
       "</style>\n",
       "<table border=\"1\" class=\"dataframe\">\n",
       "  <thead>\n",
       "    <tr style=\"text-align: right;\">\n",
       "      <th></th>\n",
       "      <th>image_path</th>\n",
       "      <th>label_path</th>\n",
       "      <th>anns</th>\n",
       "      <th>class</th>\n",
       "    </tr>\n",
       "  </thead>\n",
       "  <tbody>\n",
       "    <tr>\n",
       "      <th>0</th>\n",
       "      <td>Ch00_1000_널링양품_1.jpg</td>\n",
       "      <td>Ch00_1000_널링양품_1.txt</td>\n",
       "      <td>['0', '1']</td>\n",
       "      <td>널링양품</td>\n",
       "    </tr>\n",
       "    <tr>\n",
       "      <th>1</th>\n",
       "      <td>Ch00_1001_널링양품_1.jpg</td>\n",
       "      <td>Ch00_1001_널링양품_1.txt</td>\n",
       "      <td>['0', '1']</td>\n",
       "      <td>널링양품</td>\n",
       "    </tr>\n",
       "    <tr>\n",
       "      <th>2</th>\n",
       "      <td>Ch00_1002_널링양품_1.jpg</td>\n",
       "      <td>Ch00_1002_널링양품_1.txt</td>\n",
       "      <td>['0', '1']</td>\n",
       "      <td>널링양품</td>\n",
       "    </tr>\n",
       "    <tr>\n",
       "      <th>3</th>\n",
       "      <td>Ch00_1003_널링양품_1.jpg</td>\n",
       "      <td>Ch00_1003_널링양품_1.txt</td>\n",
       "      <td>['0', '1']</td>\n",
       "      <td>널링양품</td>\n",
       "    </tr>\n",
       "    <tr>\n",
       "      <th>4</th>\n",
       "      <td>Ch00_1004_널링양품_1.jpg</td>\n",
       "      <td>Ch00_1004_널링양품_1.txt</td>\n",
       "      <td>['0', '1']</td>\n",
       "      <td>널링양품</td>\n",
       "    </tr>\n",
       "    <tr>\n",
       "      <th>...</th>\n",
       "      <td>...</td>\n",
       "      <td>...</td>\n",
       "      <td>...</td>\n",
       "      <td>...</td>\n",
       "    </tr>\n",
       "    <tr>\n",
       "      <th>2448</th>\n",
       "      <td>Ch01_94_리벳미압입_1.jpg</td>\n",
       "      <td>Ch01_94_리벳미압입_1.txt</td>\n",
       "      <td>['0', '1']</td>\n",
       "      <td>리벳미압입</td>\n",
       "    </tr>\n",
       "    <tr>\n",
       "      <th>2449</th>\n",
       "      <td>Ch01_95_리벳미압입_1.jpg</td>\n",
       "      <td>Ch01_95_리벳미압입_1.txt</td>\n",
       "      <td>['0', '1']</td>\n",
       "      <td>리벳미압입</td>\n",
       "    </tr>\n",
       "    <tr>\n",
       "      <th>2450</th>\n",
       "      <td>Ch01_96_리벳미압입_1.jpg</td>\n",
       "      <td>Ch01_96_리벳미압입_1.txt</td>\n",
       "      <td>['0', '1']</td>\n",
       "      <td>리벳미압입</td>\n",
       "    </tr>\n",
       "    <tr>\n",
       "      <th>2451</th>\n",
       "      <td>Ch01_97_리벳미압입_1.jpg</td>\n",
       "      <td>Ch01_97_리벳미압입_1.txt</td>\n",
       "      <td>['0', '1']</td>\n",
       "      <td>리벳미압입</td>\n",
       "    </tr>\n",
       "    <tr>\n",
       "      <th>2452</th>\n",
       "      <td>Ch01_98_리벳미압입_1.jpg</td>\n",
       "      <td>Ch01_98_리벳미압입_1.txt</td>\n",
       "      <td>['0', '1']</td>\n",
       "      <td>리벳미압입</td>\n",
       "    </tr>\n",
       "  </tbody>\n",
       "</table>\n",
       "<p>2453 rows × 4 columns</p>\n",
       "</div>"
      ],
      "text/plain": [
       "                image_path            label_path        anns  class\n",
       "0     Ch00_1000_널링양품_1.jpg  Ch00_1000_널링양품_1.txt  ['0', '1']   널링양품\n",
       "1     Ch00_1001_널링양품_1.jpg  Ch00_1001_널링양품_1.txt  ['0', '1']   널링양품\n",
       "2     Ch00_1002_널링양품_1.jpg  Ch00_1002_널링양품_1.txt  ['0', '1']   널링양품\n",
       "3     Ch00_1003_널링양품_1.jpg  Ch00_1003_널링양품_1.txt  ['0', '1']   널링양품\n",
       "4     Ch00_1004_널링양품_1.jpg  Ch00_1004_널링양품_1.txt  ['0', '1']   널링양품\n",
       "...                    ...                   ...         ...    ...\n",
       "2448   Ch01_94_리벳미압입_1.jpg   Ch01_94_리벳미압입_1.txt  ['0', '1']  리벳미압입\n",
       "2449   Ch01_95_리벳미압입_1.jpg   Ch01_95_리벳미압입_1.txt  ['0', '1']  리벳미압입\n",
       "2450   Ch01_96_리벳미압입_1.jpg   Ch01_96_리벳미압입_1.txt  ['0', '1']  리벳미압입\n",
       "2451   Ch01_97_리벳미압입_1.jpg   Ch01_97_리벳미압입_1.txt  ['0', '1']  리벳미압입\n",
       "2452   Ch01_98_리벳미압입_1.jpg   Ch01_98_리벳미압입_1.txt  ['0', '1']  리벳미압입\n",
       "\n",
       "[2453 rows x 4 columns]"
      ]
     },
     "execution_count": 75,
     "metadata": {},
     "output_type": "execute_result"
    }
   ],
   "source": [
    "data"
   ]
  },
  {
   "cell_type": "code",
   "execution_count": 76,
   "id": "5888c932",
   "metadata": {},
   "outputs": [],
   "source": [
    "train, test = train_test_split(data, test_size=0.2, stratify=data[\"class\"])"
   ]
  },
  {
   "cell_type": "code",
   "execution_count": 81,
   "id": "5920d973",
   "metadata": {},
   "outputs": [
    {
     "data": {
      "text/plain": [
       "널링양품     938\n",
       "널링이중선    289\n",
       "리벳미압입    285\n",
       "널링밀림     240\n",
       "널링찍힘     210\n",
       "Name: class, dtype: int64"
      ]
     },
     "execution_count": 81,
     "metadata": {},
     "output_type": "execute_result"
    }
   ],
   "source": [
    "train[\"class\"].value_counts()"
   ]
  },
  {
   "cell_type": "code",
   "execution_count": 82,
   "id": "de38ffde",
   "metadata": {},
   "outputs": [
    {
     "data": {
      "text/plain": [
       "널링양품     235\n",
       "널링이중선     72\n",
       "리벳미압입     71\n",
       "널링밀림      60\n",
       "널링찍힘      53\n",
       "Name: class, dtype: int64"
      ]
     },
     "execution_count": 82,
     "metadata": {},
     "output_type": "execute_result"
    }
   ],
   "source": [
    "test[\"class\"].value_counts()"
   ]
  },
  {
   "cell_type": "code",
   "execution_count": 95,
   "id": "5dd7796e",
   "metadata": {},
   "outputs": [],
   "source": [
    "class_to_num = dict()\n",
    "class_to_num[\"널링양품\"] = 1\n",
    "class_to_num[\"널링이중선\"] = 2\n",
    "class_to_num[\"리벳미압입\"] = 0\n",
    "class_to_num[\"널링밀림\"] = 3\n",
    "class_to_num[\"널링찍힘\"] = 4"
   ]
  },
  {
   "cell_type": "code",
   "execution_count": 98,
   "id": "9708d2f0",
   "metadata": {},
   "outputs": [
    {
     "data": {
      "text/html": [
       "<div>\n",
       "<style scoped>\n",
       "    .dataframe tbody tr th:only-of-type {\n",
       "        vertical-align: middle;\n",
       "    }\n",
       "\n",
       "    .dataframe tbody tr th {\n",
       "        vertical-align: top;\n",
       "    }\n",
       "\n",
       "    .dataframe thead th {\n",
       "        text-align: right;\n",
       "    }\n",
       "</style>\n",
       "<table border=\"1\" class=\"dataframe\">\n",
       "  <thead>\n",
       "    <tr style=\"text-align: right;\">\n",
       "      <th></th>\n",
       "      <th>image_path</th>\n",
       "      <th>label_path</th>\n",
       "      <th>anns</th>\n",
       "      <th>class</th>\n",
       "    </tr>\n",
       "  </thead>\n",
       "  <tbody>\n",
       "    <tr>\n",
       "      <th>463</th>\n",
       "      <td>Ch00_1391_널링양품_1.jpg</td>\n",
       "      <td>Ch00_1391_널링양품_1.txt</td>\n",
       "      <td>['0', '1']</td>\n",
       "      <td>널링양품</td>\n",
       "    </tr>\n",
       "    <tr>\n",
       "      <th>992</th>\n",
       "      <td>Ch00_4707_널링찍힘_2.jpg</td>\n",
       "      <td>Ch00_4707_널링찍힘_2.txt</td>\n",
       "      <td>['2']</td>\n",
       "      <td>널링찍힘</td>\n",
       "    </tr>\n",
       "    <tr>\n",
       "      <th>2241</th>\n",
       "      <td>Ch01_283_널링이중선_2.jpg</td>\n",
       "      <td>Ch01_283_널링이중선_2.txt</td>\n",
       "      <td>['4']</td>\n",
       "      <td>널링이중선</td>\n",
       "    </tr>\n",
       "    <tr>\n",
       "      <th>785</th>\n",
       "      <td>Ch00_416_널링밀림_1.jpg</td>\n",
       "      <td>Ch00_416_널링밀림_1.txt</td>\n",
       "      <td>['3']</td>\n",
       "      <td>널링밀림</td>\n",
       "    </tr>\n",
       "    <tr>\n",
       "      <th>69</th>\n",
       "      <td>Ch00_1059_널링양품_1.jpg</td>\n",
       "      <td>Ch00_1059_널링양품_1.txt</td>\n",
       "      <td>['0', '1']</td>\n",
       "      <td>널링양품</td>\n",
       "    </tr>\n",
       "    <tr>\n",
       "      <th>...</th>\n",
       "      <td>...</td>\n",
       "      <td>...</td>\n",
       "      <td>...</td>\n",
       "      <td>...</td>\n",
       "    </tr>\n",
       "    <tr>\n",
       "      <th>1750</th>\n",
       "      <td>Ch01_1255_널링양품_1.jpg</td>\n",
       "      <td>Ch01_1255_널링양품_1.txt</td>\n",
       "      <td>['0', '1']</td>\n",
       "      <td>널링양품</td>\n",
       "    </tr>\n",
       "    <tr>\n",
       "      <th>843</th>\n",
       "      <td>Ch00_4413_널링찍힘_2.jpg</td>\n",
       "      <td>Ch00_4413_널링찍힘_2.txt</td>\n",
       "      <td>['2']</td>\n",
       "      <td>널링찍힘</td>\n",
       "    </tr>\n",
       "    <tr>\n",
       "      <th>1212</th>\n",
       "      <td>Ch00_5234_리벳미압입_2.jpg</td>\n",
       "      <td>Ch00_5234_리벳미압입_2.txt</td>\n",
       "      <td>['0', '1']</td>\n",
       "      <td>리벳미압입</td>\n",
       "    </tr>\n",
       "    <tr>\n",
       "      <th>1882</th>\n",
       "      <td>Ch01_1384_널링양품_1.jpg</td>\n",
       "      <td>Ch01_1384_널링양품_1.txt</td>\n",
       "      <td>['0', '1']</td>\n",
       "      <td>널링양품</td>\n",
       "    </tr>\n",
       "    <tr>\n",
       "      <th>1042</th>\n",
       "      <td>Ch00_484_널링밀림_3.jpg</td>\n",
       "      <td>Ch00_484_널링밀림_3.txt</td>\n",
       "      <td>['3']</td>\n",
       "      <td>널링밀림</td>\n",
       "    </tr>\n",
       "  </tbody>\n",
       "</table>\n",
       "<p>1962 rows × 4 columns</p>\n",
       "</div>"
      ],
      "text/plain": [
       "                 image_path             label_path        anns  class\n",
       "463    Ch00_1391_널링양품_1.jpg   Ch00_1391_널링양품_1.txt  ['0', '1']   널링양품\n",
       "992    Ch00_4707_널링찍힘_2.jpg   Ch00_4707_널링찍힘_2.txt       ['2']   널링찍힘\n",
       "2241   Ch01_283_널링이중선_2.jpg   Ch01_283_널링이중선_2.txt       ['4']  널링이중선\n",
       "785     Ch00_416_널링밀림_1.jpg    Ch00_416_널링밀림_1.txt       ['3']   널링밀림\n",
       "69     Ch00_1059_널링양품_1.jpg   Ch00_1059_널링양품_1.txt  ['0', '1']   널링양품\n",
       "...                     ...                    ...         ...    ...\n",
       "1750   Ch01_1255_널링양품_1.jpg   Ch01_1255_널링양품_1.txt  ['0', '1']   널링양품\n",
       "843    Ch00_4413_널링찍힘_2.jpg   Ch00_4413_널링찍힘_2.txt       ['2']   널링찍힘\n",
       "1212  Ch00_5234_리벳미압입_2.jpg  Ch00_5234_리벳미압입_2.txt  ['0', '1']  리벳미압입\n",
       "1882   Ch01_1384_널링양품_1.jpg   Ch01_1384_널링양품_1.txt  ['0', '1']   널링양품\n",
       "1042    Ch00_484_널링밀림_3.jpg    Ch00_484_널링밀림_3.txt       ['3']   널링밀림\n",
       "\n",
       "[1962 rows x 4 columns]"
      ]
     },
     "execution_count": 98,
     "metadata": {},
     "output_type": "execute_result"
    }
   ],
   "source": [
    "train"
   ]
  },
  {
   "cell_type": "code",
   "execution_count": 111,
   "id": "41a2e200",
   "metadata": {},
   "outputs": [],
   "source": [
    "train[\"label\"] = train[\"class\"].apply(lambda x:class_to_num[x])\n",
    "test[\"label\"] = test[\"class\"].apply(lambda x:class_to_num[x])\n",
    "data[\"label\"] = data[\"class\"].apply(lambda x:class_to_num[x])"
   ]
  },
  {
   "cell_type": "code",
   "execution_count": 107,
   "id": "c8fec5d3",
   "metadata": {},
   "outputs": [
    {
     "data": {
      "text/plain": [
       "1    938\n",
       "2    289\n",
       "0    285\n",
       "3    240\n",
       "4    210\n",
       "Name: label, dtype: int64"
      ]
     },
     "execution_count": 107,
     "metadata": {},
     "output_type": "execute_result"
    }
   ],
   "source": [
    "train[\"label\"].value_counts()"
   ]
  },
  {
   "cell_type": "code",
   "execution_count": 108,
   "id": "cc32c43e",
   "metadata": {},
   "outputs": [
    {
     "data": {
      "text/plain": [
       "1    235\n",
       "2     72\n",
       "0     71\n",
       "3     60\n",
       "4     53\n",
       "Name: label, dtype: int64"
      ]
     },
     "execution_count": 108,
     "metadata": {},
     "output_type": "execute_result"
    }
   ],
   "source": [
    "test[\"label\"].value_counts()"
   ]
  },
  {
   "cell_type": "code",
   "execution_count": 109,
   "id": "74705f3f",
   "metadata": {},
   "outputs": [],
   "source": [
    "train.to_csv(\"train_csv.csv\", index=False)"
   ]
  },
  {
   "cell_type": "code",
   "execution_count": 110,
   "id": "c2b3d243",
   "metadata": {},
   "outputs": [],
   "source": [
    "test.to_csv(\"test_csv.csv\", index=False)"
   ]
  },
  {
   "cell_type": "code",
   "execution_count": 112,
   "id": "052f96cf",
   "metadata": {},
   "outputs": [],
   "source": [
    "data.to_csv(\"../data/data_csv.csv\", index=False)"
   ]
  },
  {
   "cell_type": "code",
   "execution_count": 88,
   "id": "33634078",
   "metadata": {},
   "outputs": [
    {
     "data": {
      "text/html": [
       "<div>\n",
       "<style scoped>\n",
       "    .dataframe tbody tr th:only-of-type {\n",
       "        vertical-align: middle;\n",
       "    }\n",
       "\n",
       "    .dataframe tbody tr th {\n",
       "        vertical-align: top;\n",
       "    }\n",
       "\n",
       "    .dataframe thead th {\n",
       "        text-align: right;\n",
       "    }\n",
       "</style>\n",
       "<table border=\"1\" class=\"dataframe\">\n",
       "  <thead>\n",
       "    <tr style=\"text-align: right;\">\n",
       "      <th></th>\n",
       "      <th>image_path</th>\n",
       "      <th>label_path</th>\n",
       "      <th>anns</th>\n",
       "      <th>class</th>\n",
       "    </tr>\n",
       "  </thead>\n",
       "  <tbody>\n",
       "    <tr>\n",
       "      <th>463</th>\n",
       "      <td>Ch00_1391_널링양품_1.jpg</td>\n",
       "      <td>Ch00_1391_널링양품_1.txt</td>\n",
       "      <td>['0', '1']</td>\n",
       "      <td>널링양품</td>\n",
       "    </tr>\n",
       "    <tr>\n",
       "      <th>992</th>\n",
       "      <td>Ch00_4707_널링찍힘_2.jpg</td>\n",
       "      <td>Ch00_4707_널링찍힘_2.txt</td>\n",
       "      <td>['2']</td>\n",
       "      <td>널링찍힘</td>\n",
       "    </tr>\n",
       "    <tr>\n",
       "      <th>2241</th>\n",
       "      <td>Ch01_283_널링이중선_2.jpg</td>\n",
       "      <td>Ch01_283_널링이중선_2.txt</td>\n",
       "      <td>['4']</td>\n",
       "      <td>널링이중선</td>\n",
       "    </tr>\n",
       "    <tr>\n",
       "      <th>785</th>\n",
       "      <td>Ch00_416_널링밀림_1.jpg</td>\n",
       "      <td>Ch00_416_널링밀림_1.txt</td>\n",
       "      <td>['3']</td>\n",
       "      <td>널링밀림</td>\n",
       "    </tr>\n",
       "    <tr>\n",
       "      <th>69</th>\n",
       "      <td>Ch00_1059_널링양품_1.jpg</td>\n",
       "      <td>Ch00_1059_널링양품_1.txt</td>\n",
       "      <td>['0', '1']</td>\n",
       "      <td>널링양품</td>\n",
       "    </tr>\n",
       "    <tr>\n",
       "      <th>...</th>\n",
       "      <td>...</td>\n",
       "      <td>...</td>\n",
       "      <td>...</td>\n",
       "      <td>...</td>\n",
       "    </tr>\n",
       "    <tr>\n",
       "      <th>1750</th>\n",
       "      <td>Ch01_1255_널링양품_1.jpg</td>\n",
       "      <td>Ch01_1255_널링양품_1.txt</td>\n",
       "      <td>['0', '1']</td>\n",
       "      <td>널링양품</td>\n",
       "    </tr>\n",
       "    <tr>\n",
       "      <th>843</th>\n",
       "      <td>Ch00_4413_널링찍힘_2.jpg</td>\n",
       "      <td>Ch00_4413_널링찍힘_2.txt</td>\n",
       "      <td>['2']</td>\n",
       "      <td>널링찍힘</td>\n",
       "    </tr>\n",
       "    <tr>\n",
       "      <th>1212</th>\n",
       "      <td>Ch00_5234_리벳미압입_2.jpg</td>\n",
       "      <td>Ch00_5234_리벳미압입_2.txt</td>\n",
       "      <td>['0', '1']</td>\n",
       "      <td>리벳미압입</td>\n",
       "    </tr>\n",
       "    <tr>\n",
       "      <th>1882</th>\n",
       "      <td>Ch01_1384_널링양품_1.jpg</td>\n",
       "      <td>Ch01_1384_널링양품_1.txt</td>\n",
       "      <td>['0', '1']</td>\n",
       "      <td>널링양품</td>\n",
       "    </tr>\n",
       "    <tr>\n",
       "      <th>1042</th>\n",
       "      <td>Ch00_484_널링밀림_3.jpg</td>\n",
       "      <td>Ch00_484_널링밀림_3.txt</td>\n",
       "      <td>['3']</td>\n",
       "      <td>널링밀림</td>\n",
       "    </tr>\n",
       "  </tbody>\n",
       "</table>\n",
       "<p>1962 rows × 4 columns</p>\n",
       "</div>"
      ],
      "text/plain": [
       "                 image_path             label_path        anns  class\n",
       "463    Ch00_1391_널링양품_1.jpg   Ch00_1391_널링양품_1.txt  ['0', '1']   널링양품\n",
       "992    Ch00_4707_널링찍힘_2.jpg   Ch00_4707_널링찍힘_2.txt       ['2']   널링찍힘\n",
       "2241   Ch01_283_널링이중선_2.jpg   Ch01_283_널링이중선_2.txt       ['4']  널링이중선\n",
       "785     Ch00_416_널링밀림_1.jpg    Ch00_416_널링밀림_1.txt       ['3']   널링밀림\n",
       "69     Ch00_1059_널링양품_1.jpg   Ch00_1059_널링양품_1.txt  ['0', '1']   널링양품\n",
       "...                     ...                    ...         ...    ...\n",
       "1750   Ch01_1255_널링양품_1.jpg   Ch01_1255_널링양품_1.txt  ['0', '1']   널링양품\n",
       "843    Ch00_4413_널링찍힘_2.jpg   Ch00_4413_널링찍힘_2.txt       ['2']   널링찍힘\n",
       "1212  Ch00_5234_리벳미압입_2.jpg  Ch00_5234_리벳미압입_2.txt  ['0', '1']  리벳미압입\n",
       "1882   Ch01_1384_널링양품_1.jpg   Ch01_1384_널링양품_1.txt  ['0', '1']   널링양품\n",
       "1042    Ch00_484_널링밀림_3.jpg    Ch00_484_널링밀림_3.txt       ['3']   널링밀림\n",
       "\n",
       "[1962 rows x 4 columns]"
      ]
     },
     "execution_count": 88,
     "metadata": {},
     "output_type": "execute_result"
    }
   ],
   "source": [
    "train"
   ]
  },
  {
   "cell_type": "code",
   "execution_count": 113,
   "id": "7708feb6",
   "metadata": {},
   "outputs": [
    {
     "data": {
      "text/plain": [
       "1    1173\n",
       "2     361\n",
       "0     356\n",
       "3     300\n",
       "4     263\n",
       "Name: label, dtype: int64"
      ]
     },
     "execution_count": 113,
     "metadata": {},
     "output_type": "execute_result"
    }
   ],
   "source": [
    "data[\"label\"].value_counts()"
   ]
  },
  {
   "cell_type": "code",
   "execution_count": null,
   "id": "89e8f95e",
   "metadata": {},
   "outputs": [],
   "source": []
  }
 ],
 "metadata": {
  "kernelspec": {
   "display_name": "particle",
   "language": "python",
   "name": "particle"
  },
  "language_info": {
   "codemirror_mode": {
    "name": "ipython",
    "version": 3
   },
   "file_extension": ".py",
   "mimetype": "text/x-python",
   "name": "python",
   "nbconvert_exporter": "python",
   "pygments_lexer": "ipython3",
   "version": "3.8.13"
  }
 },
 "nbformat": 4,
 "nbformat_minor": 5
}
