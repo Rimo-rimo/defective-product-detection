{
 "cells": [
  {
   "cell_type": "code",
   "execution_count": 1,
   "id": "cd03201a",
   "metadata": {},
   "outputs": [],
   "source": [
    "import warnings\n",
    "warnings.filterwarnings(action='ignore')\n",
    "\n",
    "import pandas as pd\n",
    "import numpy as np\n",
    "import cv2\n",
    "import os\n",
    "import matplotlib.pyplot as plt\n",
    "import os\n",
    "import random\n",
    "from tqdm.auto import tqdm\n",
    "import torch\n",
    "import torch.nn as nn\n",
    "import torchvision\n",
    "import torchvision.datasets as datasets # 이미지 데이터셋 집합체\n",
    "import torchvision.transforms as transforms # 이미지 변환 툴\n",
    "from torch.utils.data import DataLoader, Dataset\n",
    "import torch.optim as optim # 최적화 알고리즘들이 포함힘\n",
    "from collections import Counter\n",
    "\n",
    "import albumentations as A\n",
    "from albumentations import *\n",
    "from albumentations.pytorch import ToTensorV2\n",
    "\n",
    "from sklearn.model_selection import train_test_split\n",
    "from sklearn.metrics import confusion_matrix, precision_score, recall_score, f1_score, accuracy_score\n",
    "import wandb"
   ]
  },
  {
   "cell_type": "code",
   "execution_count": 7,
   "id": "6e388fd4",
   "metadata": {},
   "outputs": [],
   "source": [
    "data = pd.read_csv(\"./data/classification_csv.csv\")"
   ]
  },
  {
   "cell_type": "code",
   "execution_count": 8,
   "id": "638fc490",
   "metadata": {},
   "outputs": [],
   "source": [
    "good = data[data[\"class\"] == 0]"
   ]
  },
  {
   "cell_type": "code",
   "execution_count": 12,
   "id": "7c07f3f0",
   "metadata": {},
   "outputs": [],
   "source": [
    "good = good.sample(300)"
   ]
  },
  {
   "cell_type": "code",
   "execution_count": 13,
   "id": "8d1d2766",
   "metadata": {},
   "outputs": [],
   "source": [
    "data = data[data[\"class\"] != 10]\n",
    "data = data[data[\"class\"] != 0]"
   ]
  },
  {
   "cell_type": "code",
   "execution_count": 14,
   "id": "17306d00",
   "metadata": {},
   "outputs": [
    {
     "data": {
      "text/plain": [
       "3    361\n",
       "2    301\n",
       "1    263\n",
       "Name: class, dtype: int64"
      ]
     },
     "execution_count": 14,
     "metadata": {},
     "output_type": "execute_result"
    }
   ],
   "source": [
    "data[\"class\"].value_counts()"
   ]
  },
  {
   "cell_type": "code",
   "execution_count": 15,
   "id": "64ce43b7",
   "metadata": {},
   "outputs": [],
   "source": [
    "data = pd.concat([good,data], axis=0)"
   ]
  },
  {
   "cell_type": "code",
   "execution_count": 16,
   "id": "7b6e5bd4",
   "metadata": {},
   "outputs": [
    {
     "data": {
      "text/plain": [
       "3    361\n",
       "2    301\n",
       "0    300\n",
       "1    263\n",
       "Name: class, dtype: int64"
      ]
     },
     "execution_count": 16,
     "metadata": {},
     "output_type": "execute_result"
    }
   ],
   "source": [
    "data[\"class\"].value_counts()"
   ]
  },
  {
   "cell_type": "code",
   "execution_count": 19,
   "id": "c43fcbc2",
   "metadata": {},
   "outputs": [],
   "source": [
    "train , valid = train_test_split(data, test_size=0.2, random_state=42, stratify=data[\"class\"])"
   ]
  },
  {
   "cell_type": "code",
   "execution_count": 20,
   "id": "a2bfb69a",
   "metadata": {},
   "outputs": [
    {
     "data": {
      "text/plain": [
       "<AxesSubplot: ylabel='class'>"
      ]
     },
     "execution_count": 20,
     "metadata": {},
     "output_type": "execute_result"
    },
    {
     "data": {
      "image/png": "[encoded data removed]",
      "text/plain": [
       "<Figure size 640x480 with 1 Axes>"
      ]
     },
     "metadata": {},
     "output_type": "display_data"
    }
   ],
   "source": [
    "train[\"class\"].value_counts().plot(kind=\"pie\")"
   ]
  },
  {
   "cell_type": "code",
   "execution_count": 21,
   "id": "0286d636",
   "metadata": {},
   "outputs": [
    {
     "data": {
      "text/plain": [
       "<AxesSubplot: ylabel='class'>"
      ]
     },
     "execution_count": 21,
     "metadata": {},
     "output_type": "execute_result"
    },
    {
     "data": {
      "image/png": "[encoded data removed]",
      "text/plain": [
       "<Figure size 640x480 with 1 Axes>"
      ]
     },
     "metadata": {},
     "output_type": "display_data"
    }
   ],
   "source": [
    "valid[\"class\"].value_counts().plot(kind=\"pie\")"
   ]
  },
  {
   "cell_type": "markdown",
   "id": "b9271f75",
   "metadata": {},
   "source": [
    "#### Dataset & Data Loader"
   ]
  },
  {
   "cell_type": "code",
   "execution_count": 22,
   "id": "7cc59dfc",
   "metadata": {},
   "outputs": [],
   "source": [
    "class ItemDataset(Dataset):\n",
    "    def __init__(self, img_path_list, label_list, train_mode=True, transforms=None):\n",
    "        self.transforms = transforms\n",
    "        self.train_mode = train_mode\n",
    "        self.img_path_list = img_path_list\n",
    "        self.label_list = label_list\n",
    "    \n",
    "    def __getitem__(self, index):\n",
    "        img_path = self.img_path_list[index]\n",
    "        img = cv2.imread(img_path)\n",
    "        \n",
    "        if self.transforms is not None:\n",
    "            img = self.transforms(image=img)[\"image\"]\n",
    "            \n",
    "        if self.train_mode:\n",
    "            label = self.label_list[index]\n",
    "            return img, label\n",
    "        else:\n",
    "            return img\n",
    "    def __len__(self):\n",
    "        return len(self.img_path_list)"
   ]
  },
  {
   "cell_type": "code",
   "execution_count": 23,
   "id": "7f3cce97",
   "metadata": {},
   "outputs": [],
   "source": [
    "w ,h =  2464, 2056\n",
    "# train_transform =A.Compose([\n",
    "#                         A.Resize(always_apply=False, p=1.0,  height=h, width=w, interpolation=0),\n",
    "#                         A.GaussNoise(always_apply=False, p=0.3, var_limit=(159.3, 204.6)),\n",
    "#                         A.MotionBlur(always_apply=False, p=0.3, blur_limit=(8, 11)),\n",
    "#                         A.OneOf([\n",
    "#                             A.Rotate(always_apply=False, p=1.0, limit=(-14, 14), interpolation=0, border_mode=4, value=(0, 0, 0), mask_value=None),\n",
    "#                             A.HorizontalFlip(always_apply=False, p=1.0),\n",
    "#                                 ],p=0.5),\n",
    "#                         A.OneOf([\n",
    "#                             A.ElasticTransform(always_apply=False, p=1.0, alpha=1.0, sigma=50.0, alpha_affine=50.0, interpolation=0, border_mode=4, value=(0, 0, 0), mask_value=None, approximate=False),\n",
    "#                             A.OpticalDistortion(always_apply=False, p=1.0, distort_limit=(-0.30, 0.30), shift_limit=(-0.05, 0.05), interpolation=0, border_mode=4, value=(0, 0, 0), mask_value=None),\n",
    "#                             A.RandomResizedCrop(always_apply=False, p=1.0, height=h, width=w, scale=(0.5, 1.0), ratio=(0.75, 1.3), interpolation=0),\n",
    "#                             A.RandomSizedCrop(always_apply=False, p=1.0, min_max_height=(h, h), height=h, width=w, w2h_ratio=1.0, interpolation=0),\n",
    "#                             A.GridDistortion(always_apply=False, p=1.0, num_steps=5, distort_limit=(-0.3, 0.3), interpolation=0, border_mode=4, value=(0, 0, 0), mask_value=None),\n",
    "#                                 ],p=0.3),\n",
    "#                         A.OneOf([\n",
    "#                             A.Equalize(always_apply=False, p=1.0, mode='cv', by_channels=True),\n",
    "#                             A.HueSaturationValue(always_apply=False, p=1.0, hue_shift_limit=(-11, 11), sat_shift_limit=(-13, 13), val_shift_limit=(-15, 15))\n",
    "#                                 ],p=0.3),             \n",
    "#                         A.CoarseDropout(always_apply=False, p=0.5, max_holes=40, max_height=20, max_width=20, min_holes=40, min_height=14, min_width=14),\n",
    "#                         A.Normalize(mean=[0.485, 0.456, 0.406], std=[0.229, 0.224, 0.225]),\n",
    "#                         ToTensorV2()\n",
    "#                             ])\n",
    "train_transform = A.Compose([\n",
    "                        A.Resize(always_apply=False, p=1.0, height=h, width=w, interpolation=0),\n",
    "                        A.Normalize(mean=[0.485, 0.456, 0.406], std=[0.229, 0.224, 0.225]),\n",
    "                        ToTensorV2()\n",
    "                            ])\n",
    "test_transform = A.Compose([\n",
    "                        A.Resize(always_apply=False, p=1.0, height=h, width=w, interpolation=0),\n",
    "                        A.Normalize(mean=[0.485, 0.456, 0.406], std=[0.229, 0.224, 0.225]),\n",
    "                        ToTensorV2()\n",
    "                            ])"
   ]
  },
  {
   "cell_type": "code",
   "execution_count": 24,
   "id": "2bd3520a",
   "metadata": {},
   "outputs": [],
   "source": [
    "train_dataset = ItemDataset(train[\"image_path\"].tolist(), train[\"class\"].tolist(), True, train_transform)\n",
    "valid_dataset = ItemDataset(valid[\"image_path\"].tolist(), valid[\"class\"].tolist(), True, test_transform)"
   ]
  },
  {
   "cell_type": "code",
   "execution_count": 25,
   "id": "4ea504cc",
   "metadata": {},
   "outputs": [],
   "source": [
    "train_loader = DataLoader(train_dataset, batch_size = 128, shuffle=True, num_workers=4)\n",
    "valid_loader = DataLoader(valid_dataset, batch_size = 128, shuffle=True, num_workers=4)"
   ]
  },
  {
   "cell_type": "markdown",
   "id": "669c0a9f",
   "metadata": {},
   "source": [
    "# Modeling"
   ]
  },
  {
   "cell_type": "code",
   "execution_count": 26,
   "id": "4edbd05d",
   "metadata": {},
   "outputs": [
    {
     "name": "stdout",
     "output_type": "stream",
     "text": [
      "Device: cuda:1\n",
      "There are 2 GPU(s) available.\n",
      "We will use the GPU: NVIDIA GeForce GTX 1080 Ti\n"
     ]
    }
   ],
   "source": [
    "device = torch.device('cuda:1') if torch.cuda.is_available() else torch.device('cpu')\n",
    "\n",
    "if torch.cuda.is_available():    \n",
    "    #device = torch.device(\"cuda:0\")\n",
    "    print('Device:', device)\n",
    "    print('There are %d GPU(s) available.' % torch.cuda.device_count())\n",
    "    print('We will use the GPU:', torch.cuda.get_device_name(0))\n",
    "else:\n",
    "    device = torch.device(\"cpu\")\n",
    "    print('No GPU available, using the CPU instead.')\n",
    "    \n",
    "# Seed 고정\n",
    "def seed_everything(seed):\n",
    "    random.seed(seed)\n",
    "    os.environ['PYTHONHASHSEED'] = str(seed)\n",
    "    np.random.seed(seed)\n",
    "    torch.manual_seed(seed)\n",
    "    torch.cuda.manual_seed(seed)\n",
    "    torch.backends.cudnn.deterministic = True\n",
    "    torch.backends.cudnn.benchmark = True\n",
    "\n",
    "seed_everything(42)"
   ]
  },
  {
   "cell_type": "code",
   "execution_count": 27,
   "id": "3f431981",
   "metadata": {},
   "outputs": [
    {
     "name": "stderr",
     "output_type": "stream",
     "text": [
      "Using cache found in /home/chicken/.cache/torch/hub/pytorch_vision_v0.10.0\n"
     ]
    }
   ],
   "source": [
    "model = torch.hub.load('pytorch/vision:v0.10.0', 'resnet50', pretrained=True)"
   ]
  },
  {
   "cell_type": "code",
   "execution_count": 28,
   "id": "bcf0eabe",
   "metadata": {},
   "outputs": [],
   "source": [
    "model.fc = nn.Linear(in_features = 2048, out_features=3, bias=True)"
   ]
  },
  {
   "cell_type": "code",
   "execution_count": 30,
   "id": "657b12a0",
   "metadata": {},
   "outputs": [],
   "source": [
    "criterion = torch.nn.CrossEntropyLoss()\n",
    "optimizer = torch.optim.Adam(params=model.parameters(), lr = 0.0001)\n",
    "scheduler = None\n",
    "valid_counter = dict(valid[\"class\"].value_counts())"
   ]
  },
  {
   "cell_type": "code",
   "execution_count": null,
   "id": "0d25e516",
   "metadata": {},
   "outputs": [],
   "source": [
    "def train(model, optimizer, train_loader, valid_loader, scheduler, device, model_name):\n",
    "    cnt = 0\n",
    "    while True:\n",
    "        try:\n",
    "            if cnt ==0:\n",
    "                os.mkdir(f\"./models/{model_name}\")\n",
    "            else:\n",
    "                os.mkdir(f\"./models/{model_name}_{cnt}\")\n",
    "            break\n",
    "        except:\n",
    "            pass\n",
    "        cnt += 1\n",
    "            \n",
    "    model.to(device)\n",
    "    best_acc = 0\n",
    "    metrics = {\"Accuracy\":[],\"Precision\":[],\"Recall\":[],\"F1-Score\":[]}\n",
    "    # train\n",
    "    for epoch in range(1,CFG[\"epochs\"]+1):\n",
    "        model.train()\n",
    "        running_loss = 0.0\n",
    "        \n",
    "        for img, label in tqdm(iter(train_loader)):\n",
    "            img, label = img.to(device), label.to(device)\n",
    "            optimizer.zero_grad()\n",
    "            \n",
    "            pred = model(img)\n",
    "            loss = criterion(pred, label)\n",
    "            \n",
    "            loss.backward()\n",
    "            optimizer.step()\n",
    "            running_loss += loss.item()\n",
    "        \n",
    "        print('[%d] Train loss: %.10f' %(epoch, running_loss / len(train_loader)))\n",
    "        \n",
    "        if scheduler is not None:\n",
    "            scheduler.step()\n",
    "            \n",
    "        model.eval()\n",
    "\n",
    "        valid_loss = 0.0\n",
    "        correct = 0\n",
    "        # valid\n",
    "        with torch.no_grad():\n",
    "            pred_list = []\n",
    "            test_list = []\n",
    "            for img, label in tqdm(iter(valid_loader)):\n",
    "                img, label = img.to(device), label.to(device)\n",
    "\n",
    "                pred = model(img)\n",
    "                valid_loss += criterion(pred, label)\n",
    "                pred = pred.argmax(dim=1, keepdim=True)\n",
    "                pred_list.extend(pred.cpu().numpy())\n",
    "                test_list.extend(label.cpu().numpy())\n",
    "\n",
    "                correct += pred.eq(label.view_as(pred)).sum().item()\n",
    "        valid_acc = 100 * correct / len(valid_loader.dataset)\n",
    "        accuracy = accuracy_score(test_list, pred_list)\n",
    "        precision = precision_score(test_list, pred_list, average=\"macro\")\n",
    "        recall = recall_score(test_list, pred_list, average=\"macro\")\n",
    "        f1 = f1_score(test_list, pred_list, average=\"macro\")\n",
    "        metrics[\"Accuracy\"].append(accuracy)\n",
    "        metrics[\"Precision\"].append(precision)\n",
    "        metrics[\"Recall\"].append(recall)\n",
    "        metrics[\"F1-Score\"].append(f1)\n",
    "        wandb.log({\"Accuracy\":accuracy, \"Precision\":precision, \"Recall\":recall, \"F1-Score\":f1})\n",
    "        \n",
    "        print(f\"EPOCH_{epoch}accuracy : {accuracy}, precision : {precision}, recall : {recall}, f1_score : {f1}\")\n",
    "        if best_acc < valid_acc:\n",
    "            best_acc = valid_acc\n",
    "            torch.save(model.state_dict(), f'./models/{model_name}/{epoch}.pth') #이 디렉토리에 best_model.pth을 저장\n",
    "            print('Model Saved.')\n",
    "    return metrics"
   ]
  },
  {
   "cell_type": "code",
   "execution_count": null,
   "id": "6ffa2f99",
   "metadata": {},
   "outputs": [],
   "source": []
  },
  {
   "cell_type": "code",
   "execution_count": 23,
   "id": "ae811b4d",
   "metadata": {},
   "outputs": [],
   "source": [
    "model_name = \"fix_resnet50_128_drop_40\""
   ]
  },
  {
   "cell_type": "code",
   "execution_count": null,
   "id": "9d182e8d",
   "metadata": {},
   "outputs": [],
   "source": [
    "wandb.init()\n",
    "wandb.run.name = model_name"
   ]
  },
  {
   "cell_type": "code",
   "execution_count": 24,
   "id": "dcf244d5",
   "metadata": {},
   "outputs": [
    {
     "name": "stderr",
     "output_type": "stream",
     "text": [
      "100%|█████████████████████████████████████████| 373/373 [17:03<00:00,  2.74s/it]"
     ]
    },
    {
     "name": "stdout",
     "output_type": "stream",
     "text": [
      "[1] Train loss: 0.5878277081\n"
     ]
    },
    {
     "name": "stderr",
     "output_type": "stream",
     "text": [
      "\n",
      " 17%|███████▎                                   | 16/94 [00:38<00:48,  1.60it/s]Premature end of JPEG file\n",
      "100%|███████████████████████████████████████████| 94/94 [03:44<00:00,  2.39s/it]\n"
     ]
    },
    {
     "name": "stdout",
     "output_type": "stream",
     "text": [
      "EPOCH_1accuracy : 0.9662784852546917, precision : 0.9634579894584048, recall : 0.9681610884237761, f1_score : 0.9656598300595973\n",
      "Model Saved.\n"
     ]
    },
    {
     "name": "stderr",
     "output_type": "stream",
     "text": [
      "100%|█████████████████████████████████████████| 373/373 [15:14<00:00,  2.45s/it]"
     ]
    },
    {
     "name": "stdout",
     "output_type": "stream",
     "text": [
      "[2] Train loss: 0.3070790105\n"
     ]
    },
    {
     "name": "stderr",
     "output_type": "stream",
     "text": [
      "\n",
      " 34%|██████████████▋                            | 32/94 [01:24<00:42,  1.44it/s]Premature end of JPEG file\n",
      "100%|███████████████████████████████████████████| 94/94 [04:07<00:00,  2.63s/it]\n"
     ]
    },
    {
     "name": "stdout",
     "output_type": "stream",
     "text": [
      "EPOCH_2accuracy : 0.9877262064343163, precision : 0.9861278950973973, recall : 0.9889149261310975, f1_score : 0.9874828773565745\n",
      "Model Saved.\n"
     ]
    },
    {
     "name": "stderr",
     "output_type": "stream",
     "text": [
      "100%|█████████████████████████████████████████| 373/373 [14:53<00:00,  2.39s/it]"
     ]
    },
    {
     "name": "stdout",
     "output_type": "stream",
     "text": [
      "[3] Train loss: 0.2162240080\n"
     ]
    },
    {
     "name": "stderr",
     "output_type": "stream",
     "text": [
      "\n",
      " 68%|█████████████████████████████▎             | 64/94 [02:31<00:19,  1.56it/s]Premature end of JPEG file\n",
      "100%|███████████████████████████████████████████| 94/94 [03:43<00:00,  2.37s/it]\n"
     ]
    },
    {
     "name": "stdout",
     "output_type": "stream",
     "text": [
      "EPOCH_3accuracy : 0.9887734584450402, precision : 0.9915018793923877, recall : 0.9860268364441804, f1_score : 0.9886901238881807\n",
      "Model Saved.\n"
     ]
    },
    {
     "name": "stderr",
     "output_type": "stream",
     "text": [
      "100%|█████████████████████████████████████████| 373/373 [14:59<00:00,  2.41s/it]"
     ]
    },
    {
     "name": "stdout",
     "output_type": "stream",
     "text": [
      "[4] Train loss: 0.1708543372\n"
     ]
    },
    {
     "name": "stderr",
     "output_type": "stream",
     "text": [
      "\n",
      "  0%|                                                    | 0/94 [00:00<?, ?it/s]Premature end of JPEG file\n",
      "100%|███████████████████████████████████████████| 94/94 [03:43<00:00,  2.38s/it]\n"
     ]
    },
    {
     "name": "stdout",
     "output_type": "stream",
     "text": [
      "EPOCH_4accuracy : 0.9952664209115282, precision : 0.9957863477232991, recall : 0.994734594619486, f1_score : 0.9952567105080286\n",
      "Model Saved.\n"
     ]
    },
    {
     "name": "stderr",
     "output_type": "stream",
     "text": [
      "100%|█████████████████████████████████████████| 373/373 [21:51<00:00,  3.52s/it]"
     ]
    },
    {
     "name": "stdout",
     "output_type": "stream",
     "text": [
      "[5] Train loss: 0.1486362912\n"
     ]
    },
    {
     "name": "stderr",
     "output_type": "stream",
     "text": [
      "\n",
      " 68%|█████████████████████████████▎             | 64/94 [04:14<00:33,  1.12s/it]Premature end of JPEG file\n",
      "100%|███████████████████████████████████████████| 94/94 [06:06<00:00,  3.90s/it]\n"
     ]
    },
    {
     "name": "stdout",
     "output_type": "stream",
     "text": [
      "EPOCH_5accuracy : 0.9962298927613941, precision : 0.9968146463546051, recall : 0.9955516891214777, f1_score : 0.9961790405098501\n",
      "Model Saved.\n"
     ]
    },
    {
     "name": "stderr",
     "output_type": "stream",
     "text": [
      "100%|█████████████████████████████████████████| 373/373 [14:55<00:00,  2.40s/it]"
     ]
    },
    {
     "name": "stdout",
     "output_type": "stream",
     "text": [
      "[6] Train loss: 0.1283919008\n"
     ]
    },
    {
     "name": "stderr",
     "output_type": "stream",
     "text": [
      "\n",
      " 43%|██████████████████▎                        | 40/94 [01:37<00:33,  1.62it/s]Premature end of JPEG file\n",
      "100%|███████████████████████████████████████████| 94/94 [03:44<00:00,  2.38s/it]\n"
     ]
    },
    {
     "name": "stdout",
     "output_type": "stream",
     "text": [
      "EPOCH_6accuracy : 0.9979892761394102, precision : 0.9980357106015432, recall : 0.997922725011095, f1_score : 0.9979784187831491\n",
      "Model Saved.\n"
     ]
    },
    {
     "name": "stderr",
     "output_type": "stream",
     "text": [
      "100%|█████████████████████████████████████████| 373/373 [14:42<00:00,  2.37s/it]"
     ]
    },
    {
     "name": "stdout",
     "output_type": "stream",
     "text": [
      "[7] Train loss: 0.1140586973\n"
     ]
    },
    {
     "name": "stderr",
     "output_type": "stream",
     "text": [
      "\n",
      " 43%|██████████████████▎                        | 40/94 [01:35<00:34,  1.59it/s]Premature end of JPEG file\n",
      "100%|███████████████████████████████████████████| 94/94 [03:48<00:00,  2.43s/it]\n"
     ]
    },
    {
     "name": "stdout",
     "output_type": "stream",
     "text": [
      "EPOCH_7accuracy : 0.9962298927613941, precision : 0.9955727954206373, recall : 0.9961589304250178, f1_score : 0.9958608587890108\n"
     ]
    },
    {
     "name": "stderr",
     "output_type": "stream",
     "text": [
      "100%|█████████████████████████████████████████| 373/373 [15:19<00:00,  2.47s/it]"
     ]
    },
    {
     "name": "stdout",
     "output_type": "stream",
     "text": [
      "[8] Train loss: 0.1059813984\n"
     ]
    },
    {
     "name": "stderr",
     "output_type": "stream",
     "text": [
      "\n",
      "  0%|                                                    | 0/94 [00:00<?, ?it/s]Premature end of JPEG file\n",
      "100%|███████████████████████████████████████████| 94/94 [03:41<00:00,  2.36s/it]\n"
     ]
    },
    {
     "name": "stdout",
     "output_type": "stream",
     "text": [
      "EPOCH_8accuracy : 0.9986176273458445, precision : 0.9986442064865575, recall : 0.9985596566196677, f1_score : 0.9986018549718099\n",
      "Model Saved.\n"
     ]
    },
    {
     "name": "stderr",
     "output_type": "stream",
     "text": [
      "100%|█████████████████████████████████████████| 373/373 [14:59<00:00,  2.41s/it]"
     ]
    },
    {
     "name": "stdout",
     "output_type": "stream",
     "text": [
      "[9] Train loss: 0.0979459511\n"
     ]
    },
    {
     "name": "stderr",
     "output_type": "stream",
     "text": [
      "\n",
      "  9%|███▋                                        | 8/94 [00:20<00:58,  1.46it/s]Premature end of JPEG file\n",
      "100%|███████████████████████████████████████████| 94/94 [03:46<00:00,  2.41s/it]\n"
     ]
    },
    {
     "name": "stdout",
     "output_type": "stream",
     "text": [
      "EPOCH_9accuracy : 0.9979892761394102, precision : 0.9983393270323869, recall : 0.9974692298109507, f1_score : 0.9979023865568868\n"
     ]
    },
    {
     "name": "stderr",
     "output_type": "stream",
     "text": [
      "100%|█████████████████████████████████████████| 373/373 [14:39<00:00,  2.36s/it]"
     ]
    },
    {
     "name": "stdout",
     "output_type": "stream",
     "text": [
      "[10] Train loss: 0.0932470897\n"
     ]
    },
    {
     "name": "stderr",
     "output_type": "stream",
     "text": [
      "\n",
      "  0%|                                                    | 0/94 [00:00<?, ?it/s]Premature end of JPEG file\n",
      "100%|███████████████████████████████████████████| 94/94 [03:41<00:00,  2.36s/it]\n"
     ]
    },
    {
     "name": "stdout",
     "output_type": "stream",
     "text": [
      "EPOCH_10accuracy : 0.999078418230563, precision : 0.9990893127750522, recall : 0.9990720685588456, f1_score : 0.9990806218513618\n",
      "Model Saved.\n"
     ]
    },
    {
     "name": "stderr",
     "output_type": "stream",
     "text": [
      "100%|█████████████████████████████████████████| 373/373 [15:01<00:00,  2.42s/it]"
     ]
    },
    {
     "name": "stdout",
     "output_type": "stream",
     "text": [
      "[11] Train loss: 0.0894148447\n"
     ]
    },
    {
     "name": "stderr",
     "output_type": "stream",
     "text": [
      "\n",
      " 43%|██████████████████▎                        | 40/94 [01:38<00:34,  1.55it/s]Premature end of JPEG file\n",
      "100%|███████████████████████████████████████████| 94/94 [03:51<00:00,  2.47s/it]\n"
     ]
    },
    {
     "name": "stdout",
     "output_type": "stream",
     "text": [
      "EPOCH_11accuracy : 0.9989108579088471, precision : 0.9988615786013428, recall : 0.998921364034943, f1_score : 0.9988912518434667\n"
     ]
    },
    {
     "name": "stderr",
     "output_type": "stream",
     "text": [
      "100%|█████████████████████████████████████████| 373/373 [15:05<00:00,  2.43s/it]"
     ]
    },
    {
     "name": "stdout",
     "output_type": "stream",
     "text": [
      "[12] Train loss: 0.0833109257\n"
     ]
    },
    {
     "name": "stderr",
     "output_type": "stream",
     "text": [
      "\n",
      " 51%|█████████████████████▉                     | 48/94 [01:53<00:29,  1.58it/s]Premature end of JPEG file\n",
      "100%|███████████████████████████████████████████| 94/94 [03:43<00:00,  2.38s/it]\n"
     ]
    },
    {
     "name": "stdout",
     "output_type": "stream",
     "text": [
      "EPOCH_12accuracy : 0.9992459785522788, precision : 0.9990409200449297, recall : 0.9993029577611133, f1_score : 0.9991715836353329\n",
      "Model Saved.\n"
     ]
    },
    {
     "name": "stderr",
     "output_type": "stream",
     "text": [
      "100%|█████████████████████████████████████████| 373/373 [15:35<00:00,  2.51s/it]"
     ]
    },
    {
     "name": "stdout",
     "output_type": "stream",
     "text": [
      "[13] Train loss: 0.0817633269\n"
     ]
    },
    {
     "name": "stderr",
     "output_type": "stream",
     "text": [
      "\n",
      " 85%|████████████████████████████████████▌      | 80/94 [03:12<00:09,  1.55it/s]Premature end of JPEG file\n",
      "100%|███████████████████████████████████████████| 94/94 [03:48<00:00,  2.43s/it]\n"
     ]
    },
    {
     "name": "stdout",
     "output_type": "stream",
     "text": [
      "EPOCH_13accuracy : 0.9989527479892761, precision : 0.9987782694215608, recall : 0.9989678548730179, f1_score : 0.998872839196915\n"
     ]
    },
    {
     "name": "stderr",
     "output_type": "stream",
     "text": [
      "100%|█████████████████████████████████████████| 373/373 [15:08<00:00,  2.44s/it]"
     ]
    },
    {
     "name": "stdout",
     "output_type": "stream",
     "text": [
      "[14] Train loss: 0.0778244946\n"
     ]
    },
    {
     "name": "stderr",
     "output_type": "stream",
     "text": [
      "\n",
      " 43%|██████████████████▎                        | 40/94 [01:38<00:35,  1.50it/s]Premature end of JPEG file\n",
      "100%|███████████████████████████████████████████| 94/94 [03:50<00:00,  2.45s/it]\n"
     ]
    },
    {
     "name": "stdout",
     "output_type": "stream",
     "text": [
      "EPOCH_14accuracy : 0.9994135388739946, precision : 0.9992483765160384, recall : 0.9994803595864019, f1_score : 0.999364236033782\n",
      "Model Saved.\n"
     ]
    },
    {
     "name": "stderr",
     "output_type": "stream",
     "text": [
      "100%|█████████████████████████████████████████| 373/373 [14:59<00:00,  2.41s/it]"
     ]
    },
    {
     "name": "stdout",
     "output_type": "stream",
     "text": [
      "[15] Train loss: 0.0746141197\n"
     ]
    },
    {
     "name": "stderr",
     "output_type": "stream",
     "text": [
      "\n",
      "  0%|                                                    | 0/94 [00:00<?, ?it/s]Premature end of JPEG file\n",
      "100%|███████████████████████████████████████████| 94/94 [03:44<00:00,  2.39s/it]\n"
     ]
    },
    {
     "name": "stdout",
     "output_type": "stream",
     "text": [
      "EPOCH_15accuracy : 0.9988270777479893, precision : 0.9986728938035798, recall : 0.9989623791238602, f1_score : 0.9988169373756959\n"
     ]
    },
    {
     "name": "stderr",
     "output_type": "stream",
     "text": [
      "100%|█████████████████████████████████████████| 373/373 [14:49<00:00,  2.39s/it]"
     ]
    },
    {
     "name": "stdout",
     "output_type": "stream",
     "text": [
      "[16] Train loss: 0.0718768869\n"
     ]
    },
    {
     "name": "stderr",
     "output_type": "stream",
     "text": [
      "\n",
      " 26%|██████████▉                                | 24/94 [00:57<00:43,  1.61it/s]Premature end of JPEG file\n",
      "100%|███████████████████████████████████████████| 94/94 [03:45<00:00,  2.40s/it]\n"
     ]
    },
    {
     "name": "stdout",
     "output_type": "stream",
     "text": [
      "EPOCH_16accuracy : 0.9987851876675603, precision : 0.9988896931003417, recall : 0.9984593051190447, f1_score : 0.9986737529493614\n"
     ]
    },
    {
     "name": "stderr",
     "output_type": "stream",
     "text": [
      "100%|█████████████████████████████████████████| 373/373 [15:33<00:00,  2.50s/it]"
     ]
    },
    {
     "name": "stdout",
     "output_type": "stream",
     "text": [
      "[17] Train loss: 0.0667317582\n"
     ]
    },
    {
     "name": "stderr",
     "output_type": "stream",
     "text": [
      "\n",
      " 43%|██████████████████▎                        | 40/94 [01:37<00:34,  1.58it/s]Premature end of JPEG file\n",
      "100%|███████████████████████████████████████████| 94/94 [03:48<00:00,  2.43s/it]\n"
     ]
    },
    {
     "name": "stdout",
     "output_type": "stream",
     "text": [
      "EPOCH_17accuracy : 0.9993297587131368, precision : 0.9993033051823357, recall : 0.999353684069962, f1_score : 0.9993283875573968\n"
     ]
    },
    {
     "name": "stderr",
     "output_type": "stream",
     "text": [
      "100%|█████████████████████████████████████████| 373/373 [15:05<00:00,  2.43s/it]"
     ]
    },
    {
     "name": "stdout",
     "output_type": "stream",
     "text": [
      "[18] Train loss: 0.0671605146\n"
     ]
    },
    {
     "name": "stderr",
     "output_type": "stream",
     "text": [
      "\n",
      " 85%|████████████████████████████████████▌      | 80/94 [03:06<00:08,  1.60it/s]Premature end of JPEG file\n",
      "100%|███████████████████████████████████████████| 94/94 [03:41<00:00,  2.36s/it]\n"
     ]
    },
    {
     "name": "stdout",
     "output_type": "stream",
     "text": [
      "EPOCH_18accuracy : 0.999036528150134, precision : 0.9988003979808898, recall : 0.9992538914033208, f1_score : 0.9990266142288682\n"
     ]
    },
    {
     "name": "stderr",
     "output_type": "stream",
     "text": [
      "100%|█████████████████████████████████████████| 373/373 [14:44<00:00,  2.37s/it]"
     ]
    },
    {
     "name": "stdout",
     "output_type": "stream",
     "text": [
      "[19] Train loss: 0.0669076713\n"
     ]
    },
    {
     "name": "stderr",
     "output_type": "stream",
     "text": [
      "\n",
      " 17%|███████▎                                   | 16/94 [00:38<00:48,  1.61it/s]Premature end of JPEG file\n",
      "100%|███████████████████████████████████████████| 94/94 [03:44<00:00,  2.39s/it]\n"
     ]
    },
    {
     "name": "stdout",
     "output_type": "stream",
     "text": [
      "EPOCH_19accuracy : 0.9992459785522788, precision : 0.9993076775977348, recall : 0.9990760235182565, f1_score : 0.999191411840135\n"
     ]
    },
    {
     "name": "stderr",
     "output_type": "stream",
     "text": [
      "100%|█████████████████████████████████████████| 373/373 [15:01<00:00,  2.42s/it]"
     ]
    },
    {
     "name": "stdout",
     "output_type": "stream",
     "text": [
      "[20] Train loss: 0.0618843789\n"
     ]
    },
    {
     "name": "stderr",
     "output_type": "stream",
     "text": [
      "\n",
      "  0%|                                                    | 0/94 [00:00<?, ?it/s]Premature end of JPEG file\n",
      "100%|███████████████████████████████████████████| 94/94 [03:41<00:00,  2.36s/it]\n"
     ]
    },
    {
     "name": "stdout",
     "output_type": "stream",
     "text": [
      "EPOCH_20accuracy : 0.9993716487935657, precision : 0.9994100016098493, recall : 0.999278928753651, f1_score : 0.9993443965459587\n"
     ]
    }
   ],
   "source": [
    "metrics = train(model, optimizer, train_loader,valid_loader, scheduler, device, model_name)"
   ]
  },
  {
   "cell_type": "code",
   "execution_count": 25,
   "id": "8828f3d6",
   "metadata": {},
   "outputs": [
    {
     "data": {
      "image/png": "[encoded data removed]",
      "text/plain": [
       "<Figure size 1500x1000 with 4 Axes>"
      ]
     },
     "metadata": {},
     "output_type": "display_data"
    }
   ],
   "source": [
    "fig, axes = plt.subplots(2,2,figsize=(15,10))\n",
    "axes = axes.flatten()\n",
    "\n",
    "result = [\"Accuracy\", \"Precision\", \"Recall\", \"F1-Score\"]\n",
    "\n",
    "for n,i in enumerate(result):\n",
    "    axes[n].set_title(i)\n",
    "    axes[n].plot(range(len(metrics[i])), metrics[i])"
   ]
  },
  {
   "cell_type": "code",
   "execution_count": 26,
   "id": "168378b2",
   "metadata": {},
   "outputs": [],
   "source": [
    "df = pd.DataFrame(metrics)\n",
    "df.to_csv(f\"./{model_name}_metrics.csv\", index=False)"
   ]
  },
  {
   "cell_type": "code",
   "execution_count": null,
   "id": "54623754",
   "metadata": {},
   "outputs": [],
   "source": []
  }
 ],
 "metadata": {
  "kernelspec": {
   "display_name": "landmark2",
   "language": "python",
   "name": "landmark"
  },
  "language_info": {
   "codemirror_mode": {
    "name": "ipython",
    "version": 3
   },
   "file_extension": ".py",
   "mimetype": "text/x-python",
   "name": "python",
   "nbconvert_exporter": "python",
   "pygments_lexer": "ipython3",
   "version": "3.10.8"
  }
 },
 "nbformat": 4,
 "nbformat_minor": 5
}
