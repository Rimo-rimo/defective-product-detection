{
 "cells": [
  {
   "cell_type": "code",
   "execution_count": 1,
   "metadata": {},
   "outputs": [],
   "source": [
    "import pandas as pd\n",
    "import os\n",
    "from collections import Counter"
   ]
  },
  {
   "cell_type": "code",
   "execution_count": 10,
   "metadata": {},
   "outputs": [],
   "source": [
    "path_1 = \"../data/리벳미압입_L/\"\n",
    "path_2 = \"../data/리벳미압입_R/\"\n",
    "path_3 = \"../data/밀림_R/\"\n",
    "path_4 = \"../data/양품_L/\"\n",
    "path_5 = \"../data/양품_R/\"\n",
    "path_6 = \"../data/이중선_L/\"\n",
    "path_7 = \"../data/이중선_R/\"\n",
    "path_8 = \"../data/찍힘_R/\""
   ]
  },
  {
   "cell_type": "code",
   "execution_count": 11,
   "metadata": {},
   "outputs": [],
   "source": [
    "path_list = [path_1, path_2, path_3, path_4, path_5, path_6, path_7, path_8]"
   ]
  },
  {
   "cell_type": "code",
   "execution_count": 12,
   "metadata": {},
   "outputs": [],
   "source": [
    "img_path = []\n",
    "classes = []\n",
    "for n, i in enumerate(path_list):\n",
    "    paths = [i + k for k in os.listdir(i)]\n",
    "    \n",
    "    img_path.extend(paths)"
   ]
  },
  {
   "cell_type": "code",
   "execution_count": 13,
   "metadata": {},
   "outputs": [
    {
     "data": {
      "text/plain": [
       "2453"
      ]
     },
     "execution_count": 13,
     "metadata": {},
     "output_type": "execute_result"
    }
   ],
   "source": [
    "len(img_path)"
   ]
  },
  {
   "cell_type": "code",
   "execution_count": 14,
   "metadata": {},
   "outputs": [],
   "source": [
    "type_to_class = dict()\n",
    "type_to_class[\"리벳미압입_L\"] = 10\n",
    "type_to_class[\"리벳미압입_R\"] = 10\n",
    "type_to_class[\"밀림_R\"] = 2\n",
    "type_to_class[\"양품_L\"] = 0\n",
    "type_to_class[\"양품_R\"] = 0\n",
    "type_to_class[\"이중선_L\"] = 3\n",
    "type_to_class[\"이중선_R\"] = 3\n",
    "type_to_class[\"찍힘_R\"] = 1"
   ]
  },
  {
   "cell_type": "code",
   "execution_count": 15,
   "metadata": {},
   "outputs": [
    {
     "data": {
      "text/plain": [
       "['..', 'data', '리벳미압입_L', 'Ch01_4858_리벳미압입_2.jpg']"
      ]
     },
     "execution_count": 15,
     "metadata": {},
     "output_type": "execute_result"
    }
   ],
   "source": [
    "img_path[0].split(\"/\")"
   ]
  },
  {
   "cell_type": "code",
   "execution_count": 16,
   "metadata": {},
   "outputs": [],
   "source": [
    "classes = []\n",
    "for i in img_path:\n",
    "    class_ = type_to_class[i.split(\"/\")[2]]\n",
    "    classes.append(class_)"
   ]
  },
  {
   "cell_type": "code",
   "execution_count": 17,
   "metadata": {},
   "outputs": [
    {
     "data": {
      "text/plain": [
       "2453"
      ]
     },
     "execution_count": 17,
     "metadata": {},
     "output_type": "execute_result"
    }
   ],
   "source": [
    "len(classes)"
   ]
  },
  {
   "cell_type": "code",
   "execution_count": 19,
   "metadata": {},
   "outputs": [
    {
     "data": {
      "text/plain": [
       "Counter({10: 356, 2: 300, 0: 1173, 3: 361, 1: 263})"
      ]
     },
     "execution_count": 19,
     "metadata": {},
     "output_type": "execute_result"
    }
   ],
   "source": [
    "Counter(classes)"
   ]
  },
  {
   "cell_type": "code",
   "execution_count": 20,
   "metadata": {},
   "outputs": [],
   "source": [
    "data = {\"image_path\" : img_path, \"class\":classes}"
   ]
  },
  {
   "cell_type": "code",
   "execution_count": 21,
   "metadata": {},
   "outputs": [
    {
     "data": {
      "text/html": [
       "<div>\n",
       "<style scoped>\n",
       "    .dataframe tbody tr th:only-of-type {\n",
       "        vertical-align: middle;\n",
       "    }\n",
       "\n",
       "    .dataframe tbody tr th {\n",
       "        vertical-align: top;\n",
       "    }\n",
       "\n",
       "    .dataframe thead th {\n",
       "        text-align: right;\n",
       "    }\n",
       "</style>\n",
       "<table border=\"1\" class=\"dataframe\">\n",
       "  <thead>\n",
       "    <tr style=\"text-align: right;\">\n",
       "      <th></th>\n",
       "      <th>image_path</th>\n",
       "      <th>class</th>\n",
       "    </tr>\n",
       "  </thead>\n",
       "  <tbody>\n",
       "    <tr>\n",
       "      <th>0</th>\n",
       "      <td>../data/리벳미압입_L/Ch01_4858_리벳미압입_2.jpg</td>\n",
       "      <td>10</td>\n",
       "    </tr>\n",
       "    <tr>\n",
       "      <th>1</th>\n",
       "      <td>../data/리벳미압입_L/Ch01_140_리벳미압입_1.jpg</td>\n",
       "      <td>10</td>\n",
       "    </tr>\n",
       "    <tr>\n",
       "      <th>2</th>\n",
       "      <td>../data/리벳미압입_L/Ch01_60_리벳미압입_1.jpg</td>\n",
       "      <td>10</td>\n",
       "    </tr>\n",
       "    <tr>\n",
       "      <th>3</th>\n",
       "      <td>../data/리벳미압입_L/Ch01_93_리벳미압입_1.jpg</td>\n",
       "      <td>10</td>\n",
       "    </tr>\n",
       "    <tr>\n",
       "      <th>4</th>\n",
       "      <td>../data/리벳미압입_L/Ch01_4771_리벳미압입_2.jpg</td>\n",
       "      <td>10</td>\n",
       "    </tr>\n",
       "    <tr>\n",
       "      <th>...</th>\n",
       "      <td>...</td>\n",
       "      <td>...</td>\n",
       "    </tr>\n",
       "    <tr>\n",
       "      <th>2448</th>\n",
       "      <td>../data/찍힘_R/Ch00_4545_널링찍힘_2.jpg</td>\n",
       "      <td>1</td>\n",
       "    </tr>\n",
       "    <tr>\n",
       "      <th>2449</th>\n",
       "      <td>../data/찍힘_R/Ch00_4664_널링찍힘_2.jpg</td>\n",
       "      <td>1</td>\n",
       "    </tr>\n",
       "    <tr>\n",
       "      <th>2450</th>\n",
       "      <td>../data/찍힘_R/Ch00_229_널링찍힘.jpg</td>\n",
       "      <td>1</td>\n",
       "    </tr>\n",
       "    <tr>\n",
       "      <th>2451</th>\n",
       "      <td>../data/찍힘_R/Ch00_4379_널링찍힘_2.jpg</td>\n",
       "      <td>1</td>\n",
       "    </tr>\n",
       "    <tr>\n",
       "      <th>2452</th>\n",
       "      <td>../data/찍힘_R/Ch00_4413_널링찍힘_2.jpg</td>\n",
       "      <td>1</td>\n",
       "    </tr>\n",
       "  </tbody>\n",
       "</table>\n",
       "<p>2453 rows × 2 columns</p>\n",
       "</div>"
      ],
      "text/plain": [
       "                                         image_path  class\n",
       "0     ../data/리벳미압입_L/Ch01_4858_리벳미압입_2.jpg     10\n",
       "1      ../data/리벳미압입_L/Ch01_140_리벳미압입_1.jpg     10\n",
       "2       ../data/리벳미압입_L/Ch01_60_리벳미압입_1.jpg     10\n",
       "3       ../data/리벳미압입_L/Ch01_93_리벳미압입_1.jpg     10\n",
       "4     ../data/리벳미압입_L/Ch01_4771_리벳미압입_2.jpg     10\n",
       "...                                             ...    ...\n",
       "2448      ../data/찍힘_R/Ch00_4545_널링찍힘_2.jpg      1\n",
       "2449      ../data/찍힘_R/Ch00_4664_널링찍힘_2.jpg      1\n",
       "2450         ../data/찍힘_R/Ch00_229_널링찍힘.jpg      1\n",
       "2451      ../data/찍힘_R/Ch00_4379_널링찍힘_2.jpg      1\n",
       "2452      ../data/찍힘_R/Ch00_4413_널링찍힘_2.jpg      1\n",
       "\n",
       "[2453 rows x 2 columns]"
      ]
     },
     "execution_count": 21,
     "metadata": {},
     "output_type": "execute_result"
    }
   ],
   "source": [
    "data = pd.DataFrame(data)\n",
    "data"
   ]
  },
  {
   "cell_type": "code",
   "execution_count": 22,
   "metadata": {},
   "outputs": [],
   "source": [
    "data.to_csv(\"../data/Basic_classification.csv\", index=False)"
   ]
  },
  {
   "cell_type": "code",
   "execution_count": null,
   "metadata": {},
   "outputs": [],
   "source": []
  }
 ],
 "metadata": {
  "kernelspec": {
   "display_name": "particle",
   "language": "python",
   "name": "particle"
  },
  "language_info": {
   "codemirror_mode": {
    "name": "ipython",
    "version": 3
   },
   "file_extension": ".py",
   "mimetype": "text/x-python",
   "name": "python",
   "nbconvert_exporter": "python",
   "pygments_lexer": "ipython3",
   "version": "3.8.13"
  }
 },
 "nbformat": 4,
 "nbformat_minor": 2
}
