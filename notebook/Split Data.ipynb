{
 "cells": [
  {
   "cell_type": "code",
   "execution_count": 23,
   "id": "db604238",
   "metadata": {},
   "outputs": [],
   "source": [
    "import pandas as pd\n",
    "from sklearn.model_selection import train_test_split\n",
    "import os"
   ]
  },
  {
   "cell_type": "code",
   "execution_count": 24,
   "id": "c9b70b2f",
   "metadata": {
    "scrolled": true
   },
   "outputs": [],
   "source": [
    "train_path = \"../data/train_csv.csv\"\n",
    "test_path = \"../data/test_csv.csv\"\n",
    "train = pd.read_csv(train_path)\n",
    "test = pd.read_csv(test_path)"
   ]
  },
  {
   "cell_type": "code",
   "execution_count": 9,
   "id": "3363a687",
   "metadata": {},
   "outputs": [
    {
     "data": {
      "text/plain": [
       "(1962, 491)"
      ]
     },
     "execution_count": 9,
     "metadata": {},
     "output_type": "execute_result"
    }
   ],
   "source": [
    "len(train), len(test)"
   ]
  },
  {
   "cell_type": "code",
   "execution_count": 10,
   "id": "55784280",
   "metadata": {},
   "outputs": [
    {
     "data": {
      "text/plain": [
       "널링양품     938\n",
       "널링이중선    289\n",
       "리벳미압입    285\n",
       "널링밀림     240\n",
       "널링찍힘     210\n",
       "Name: class, dtype: int64"
      ]
     },
     "execution_count": 10,
     "metadata": {},
     "output_type": "execute_result"
    }
   ],
   "source": [
    "train[\"class\"].value_counts()"
   ]
  },
  {
   "cell_type": "code",
   "execution_count": 11,
   "id": "ba519020",
   "metadata": {},
   "outputs": [
    {
     "data": {
      "text/plain": [
       "널링양품     235\n",
       "널링이중선     72\n",
       "리벳미압입     71\n",
       "널링밀림      60\n",
       "널링찍힘      53\n",
       "Name: class, dtype: int64"
      ]
     },
     "execution_count": 11,
     "metadata": {},
     "output_type": "execute_result"
    }
   ],
   "source": [
    "test[\"class\"].value_counts()"
   ]
  },
  {
   "cell_type": "markdown",
   "id": "7df53d73",
   "metadata": {},
   "source": [
    "# 리벳과 널링을 detection하기 위한 데이터 "
   ]
  },
  {
   "cell_type": "code",
   "execution_count": 15,
   "id": "e7ef9810",
   "metadata": {},
   "outputs": [],
   "source": [
    "train_ = train[train[\"anns\"] == \"['0', '1']\"]\n",
    "test_ = test[test[\"anns\"] == \"['0', '1']\"]"
   ]
  },
  {
   "cell_type": "code",
   "execution_count": 16,
   "id": "3e62b890",
   "metadata": {},
   "outputs": [
    {
     "data": {
      "text/plain": [
       "(1147, 280)"
      ]
     },
     "execution_count": 16,
     "metadata": {},
     "output_type": "execute_result"
    }
   ],
   "source": [
    "len(train_), len(test_)"
   ]
  },
  {
   "cell_type": "code",
   "execution_count": 17,
   "id": "878aa965",
   "metadata": {},
   "outputs": [
    {
     "data": {
      "text/plain": [
       "널링양품     862\n",
       "리벳미압입    285\n",
       "Name: class, dtype: int64"
      ]
     },
     "execution_count": 17,
     "metadata": {},
     "output_type": "execute_result"
    }
   ],
   "source": [
    "train_[\"class\"].value_counts()"
   ]
  },
  {
   "cell_type": "code",
   "execution_count": 18,
   "id": "027e0721",
   "metadata": {},
   "outputs": [
    {
     "data": {
      "text/plain": [
       "널링양품     209\n",
       "리벳미압입     71\n",
       "Name: class, dtype: int64"
      ]
     },
     "execution_count": 18,
     "metadata": {},
     "output_type": "execute_result"
    }
   ],
   "source": [
    "test_[\"class\"].value_counts()"
   ]
  },
  {
   "cell_type": "code",
   "execution_count": 25,
   "id": "187add0c",
   "metadata": {},
   "outputs": [],
   "source": [
    "with open(\"../data/train_all.txt\",\"w\") as f:\n",
    "    for i in train[\"image_path\"].tolist():\n",
    "        i = os.path.join(\"/home/chicken/project/ABL/data/images/\", i)\n",
    "        f.write(i)\n",
    "        f.write(\"\\n\")"
   ]
  },
  {
   "cell_type": "code",
   "execution_count": 26,
   "id": "15a376fb",
   "metadata": {},
   "outputs": [],
   "source": [
    "with open(\"../data/valid_all.txt\",\"w\") as f:\n",
    "    for i in test[\"image_path\"].tolist():\n",
    "        i = os.path.join(\"/home/chicken/project/ABL/data/images/\", i)\n",
    "        f.write(i)\n",
    "        f.write(\"\\n\")"
   ]
  },
  {
   "cell_type": "code",
   "execution_count": null,
   "id": "dc67d96e",
   "metadata": {},
   "outputs": [],
   "source": []
  }
 ],
 "metadata": {
  "kernelspec": {
   "display_name": "particle",
   "language": "python",
   "name": "particle"
  },
  "language_info": {
   "codemirror_mode": {
    "name": "ipython",
    "version": 3
   },
   "file_extension": ".py",
   "mimetype": "text/x-python",
   "name": "python",
   "nbconvert_exporter": "python",
   "pygments_lexer": "ipython3",
   "version": "3.8.13"
  }
 },
 "nbformat": 4,
 "nbformat_minor": 5
}
