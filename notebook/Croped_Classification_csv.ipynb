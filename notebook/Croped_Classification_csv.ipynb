{
 "cells": [
  {
   "cell_type": "code",
   "execution_count": 47,
   "metadata": {},
   "outputs": [],
   "source": [
    "import pandas as pd\n",
    "import os\n",
    "from collections import Counter"
   ]
  },
  {
   "cell_type": "code",
   "execution_count": 28,
   "metadata": {},
   "outputs": [],
   "source": [
    "path_1 = \"/home/chicken/project/ABL/yolov5/runs/detect/리벳미압입_L/crops/knurling/\"\n",
    "path_2 = \"/home/chicken/project/ABL/yolov5/runs/detect/리벳미압입_R/crops/knurling/\"\n",
    "path_3 = \"/home/chicken/project/ABL/yolov5/runs/detect/밀림_R/crops/knurling/\"\n",
    "path_4 = \"/home/chicken/project/ABL/yolov5/runs/detect/양품_L/crops/knurling/\"\n",
    "path_5 = \"/home/chicken/project/ABL/yolov5/runs/detect/양품_R/crops/knurling/\"\n",
    "path_6 = \"/home/chicken/project/ABL/yolov5/runs/detect/이중선_L/crops/knurling/\"\n",
    "path_7 = \"/home/chicken/project/ABL/yolov5/runs/detect/이중선_R/crops/knurling/\"\n",
    "path_8 = \"/home/chicken/project/ABL/yolov5/runs/detect/찍힘_R/crops/knurling/\""
   ]
  },
  {
   "cell_type": "code",
   "execution_count": 29,
   "metadata": {},
   "outputs": [],
   "source": [
    "path_list = [path_1, path_2, path_3, path_4, path_5, path_6, path_7, path_8]"
   ]
  },
  {
   "cell_type": "code",
   "execution_count": 33,
   "metadata": {},
   "outputs": [],
   "source": [
    "img_path = []\n",
    "classes = []\n",
    "for n, i in enumerate(path_list):\n",
    "    paths = [i + k for k in os.listdir(i)]\n",
    "    \n",
    "    img_path.extend(paths)"
   ]
  },
  {
   "cell_type": "code",
   "execution_count": 40,
   "metadata": {},
   "outputs": [],
   "source": [
    "type_to_class = dict()\n",
    "type_to_class[\"리벳미압입_L\"] = 10\n",
    "type_to_class[\"리벳미압입_R\"] = 10\n",
    "type_to_class[\"밀림_R\"] = 2\n",
    "type_to_class[\"양품_L\"] = 0\n",
    "type_to_class[\"양품_R\"] = 0\n",
    "type_to_class[\"이중선_L\"] = 3\n",
    "type_to_class[\"이중선_R\"] = 3\n",
    "type_to_class[\"찍힘_R\"] = 1"
   ]
  },
  {
   "cell_type": "code",
   "execution_count": 44,
   "metadata": {},
   "outputs": [],
   "source": [
    "classes = []\n",
    "for i in img_path:\n",
    "    class_ = type_to_class[i.split(\"/\")[8]]\n",
    "    classes.append(class_)"
   ]
  },
  {
   "cell_type": "code",
   "execution_count": 45,
   "metadata": {},
   "outputs": [
    {
     "data": {
      "text/plain": [
       "2455"
      ]
     },
     "execution_count": 45,
     "metadata": {},
     "output_type": "execute_result"
    }
   ],
   "source": [
    "len(classes)"
   ]
  },
  {
   "cell_type": "code",
   "execution_count": 49,
   "metadata": {},
   "outputs": [],
   "source": [
    "data = {\"image_path\" : img_path, \"class\":classes}"
   ]
  },
  {
   "cell_type": "code",
   "execution_count": 50,
   "metadata": {},
   "outputs": [
    {
     "data": {
      "text/html": [
       "<div>\n",
       "<style scoped>\n",
       "    .dataframe tbody tr th:only-of-type {\n",
       "        vertical-align: middle;\n",
       "    }\n",
       "\n",
       "    .dataframe tbody tr th {\n",
       "        vertical-align: top;\n",
       "    }\n",
       "\n",
       "    .dataframe thead th {\n",
       "        text-align: right;\n",
       "    }\n",
       "</style>\n",
       "<table border=\"1\" class=\"dataframe\">\n",
       "  <thead>\n",
       "    <tr style=\"text-align: right;\">\n",
       "      <th></th>\n",
       "      <th>image_path</th>\n",
       "      <th>class</th>\n",
       "    </tr>\n",
       "  </thead>\n",
       "  <tbody>\n",
       "    <tr>\n",
       "      <th>0</th>\n",
       "      <td>/home/chicken/project/ABL/yolov5/runs/detect/리...</td>\n",
       "      <td>10</td>\n",
       "    </tr>\n",
       "    <tr>\n",
       "      <th>1</th>\n",
       "      <td>/home/chicken/project/ABL/yolov5/runs/detect/리...</td>\n",
       "      <td>10</td>\n",
       "    </tr>\n",
       "    <tr>\n",
       "      <th>2</th>\n",
       "      <td>/home/chicken/project/ABL/yolov5/runs/detect/리...</td>\n",
       "      <td>10</td>\n",
       "    </tr>\n",
       "    <tr>\n",
       "      <th>3</th>\n",
       "      <td>/home/chicken/project/ABL/yolov5/runs/detect/리...</td>\n",
       "      <td>10</td>\n",
       "    </tr>\n",
       "    <tr>\n",
       "      <th>4</th>\n",
       "      <td>/home/chicken/project/ABL/yolov5/runs/detect/리...</td>\n",
       "      <td>10</td>\n",
       "    </tr>\n",
       "    <tr>\n",
       "      <th>...</th>\n",
       "      <td>...</td>\n",
       "      <td>...</td>\n",
       "    </tr>\n",
       "    <tr>\n",
       "      <th>2450</th>\n",
       "      <td>/home/chicken/project/ABL/yolov5/runs/detect/찍...</td>\n",
       "      <td>1</td>\n",
       "    </tr>\n",
       "    <tr>\n",
       "      <th>2451</th>\n",
       "      <td>/home/chicken/project/ABL/yolov5/runs/detect/찍...</td>\n",
       "      <td>1</td>\n",
       "    </tr>\n",
       "    <tr>\n",
       "      <th>2452</th>\n",
       "      <td>/home/chicken/project/ABL/yolov5/runs/detect/찍...</td>\n",
       "      <td>1</td>\n",
       "    </tr>\n",
       "    <tr>\n",
       "      <th>2453</th>\n",
       "      <td>/home/chicken/project/ABL/yolov5/runs/detect/찍...</td>\n",
       "      <td>1</td>\n",
       "    </tr>\n",
       "    <tr>\n",
       "      <th>2454</th>\n",
       "      <td>/home/chicken/project/ABL/yolov5/runs/detect/찍...</td>\n",
       "      <td>1</td>\n",
       "    </tr>\n",
       "  </tbody>\n",
       "</table>\n",
       "<p>2455 rows × 2 columns</p>\n",
       "</div>"
      ],
      "text/plain": [
       "                                             image_path  class\n",
       "0     /home/chicken/project/ABL/yolov5/runs/detect/리...     10\n",
       "1     /home/chicken/project/ABL/yolov5/runs/detect/리...     10\n",
       "2     /home/chicken/project/ABL/yolov5/runs/detect/리...     10\n",
       "3     /home/chicken/project/ABL/yolov5/runs/detect/리...     10\n",
       "4     /home/chicken/project/ABL/yolov5/runs/detect/리...     10\n",
       "...                                                 ...    ...\n",
       "2450  /home/chicken/project/ABL/yolov5/runs/detect/찍...      1\n",
       "2451  /home/chicken/project/ABL/yolov5/runs/detect/찍...      1\n",
       "2452  /home/chicken/project/ABL/yolov5/runs/detect/찍...      1\n",
       "2453  /home/chicken/project/ABL/yolov5/runs/detect/찍...      1\n",
       "2454  /home/chicken/project/ABL/yolov5/runs/detect/찍...      1\n",
       "\n",
       "[2455 rows x 2 columns]"
      ]
     },
     "execution_count": 50,
     "metadata": {},
     "output_type": "execute_result"
    }
   ],
   "source": [
    "data = pd.DataFrame(data)\n",
    "data"
   ]
  },
  {
   "cell_type": "code",
   "execution_count": 51,
   "metadata": {},
   "outputs": [],
   "source": [
    "data.to_csv(\"/home/chicken/project/ABL/data/classification_csv.csv\", index=False)"
   ]
  },
  {
   "cell_type": "code",
   "execution_count": null,
   "metadata": {},
   "outputs": [],
   "source": []
  }
 ],
 "metadata": {
  "kernelspec": {
   "display_name": "yolov5",
   "language": "python",
   "name": "yolov5"
  },
  "language_info": {
   "codemirror_mode": {
    "name": "ipython",
    "version": 3
   },
   "file_extension": ".py",
   "mimetype": "text/x-python",
   "name": "python",
   "nbconvert_exporter": "python",
   "pygments_lexer": "ipython3",
   "version": "3.9.12"
  },
  "orig_nbformat": 4
 },
 "nbformat": 4,
 "nbformat_minor": 2
}
