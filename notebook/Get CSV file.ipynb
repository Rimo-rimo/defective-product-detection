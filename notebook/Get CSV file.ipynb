{
 "cells": [
  {
   "cell_type": "code",
   "execution_count": 1,
   "id": "62e92893",
   "metadata": {},
   "outputs": [],
   "source": [
    "import pandas as pd\n",
    "import os\n",
    "import unicodedata"
   ]
  },
  {
   "cell_type": "code",
   "execution_count": 72,
   "id": "8b7cda4e",
   "metadata": {},
   "outputs": [],
   "source": [
    "labels = sorted([unicodedata.normalize(\"NFC\",i) for i in os.listdir(\"../data/labels\") if i[0] == \"C\"])\n",
    "images = sorted([unicodedata.normalize(\"NFC\",i) for i in os.listdir(\"../data/images/\")])"
   ]
  },
  {
   "cell_type": "code",
   "execution_count": 73,
   "id": "876b2531",
   "metadata": {},
   "outputs": [
    {
     "data": {
      "text/plain": [
       "(2453, 2453)"
      ]
     },
     "execution_count": 73,
     "metadata": {},
     "output_type": "execute_result"
    }
   ],
   "source": [
    "len(labels), len(images)"
   ]
  },
  {
   "cell_type": "code",
   "execution_count": 97,
   "id": "e6996f34",
   "metadata": {},
   "outputs": [],
   "source": [
    "df = dict()\n",
    "df[\"image_path\"] = list()\n",
    "df[\"label_path\"] = list()\n",
    "df[\"anns\"] = list()\n",
    "df[\"class\"] = list()"
   ]
  },
  {
   "cell_type": "code",
   "execution_count": 98,
   "id": "4da648b0",
   "metadata": {},
   "outputs": [],
   "source": [
    "for i,l in zip(images, labels):\n",
    "    if i.split(\".\")[0] == l.split(\".\")[0]:\n",
    "        anns = open(\"../data/labels/\"+l,\"r\")\n",
    "        anns = anns.readlines()\n",
    "        anns_list = []\n",
    "        for ann in anns:\n",
    "            anns_list.append(ann[0])\n",
    "        anns_list = list(set(sorted(anns_list)))\n",
    "        class_ = l.split(\"_\")[2]\n",
    "        df[\"image_path\"].append(i)\n",
    "        df[\"label_path\"].append(l)\n",
    "        df[\"anns\"].append(anns_list)\n",
    "        df[\"class\"].append(class_)\n",
    "    else:\n",
    "        print(\"problem!\")"
   ]
  },
  {
   "cell_type": "code",
   "execution_count": 99,
   "id": "63d9f3b7",
   "metadata": {},
   "outputs": [],
   "source": [
    "df = pd.DataFrame(df)"
   ]
  },
  {
   "cell_type": "code",
   "execution_count": 102,
   "id": "09ecd766",
   "metadata": {},
   "outputs": [],
   "source": [
    "df.to_csv(\"labels.csv\", index=False)"
   ]
  },
  {
   "cell_type": "code",
   "execution_count": null,
   "id": "436c4fe1",
   "metadata": {},
   "outputs": [],
   "source": []
  },
  {
   "cell_type": "code",
   "execution_count": 2,
   "id": "4ec126ec",
   "metadata": {},
   "outputs": [],
   "source": [
    "data = pd.read_csv(\"../data/labels.csv\")"
   ]
  },
  {
   "cell_type": "code",
   "execution_count": 5,
   "id": "7e2b0ae2",
   "metadata": {},
   "outputs": [
    {
     "data": {
      "text/plain": [
       "널링양품        1173\n",
       "널링이중선        361\n",
       "리벳미압입        356\n",
       "널링밀림         300\n",
       "널링찍힘         228\n",
       "널링찍힘.txt      35\n",
       "Name: class, dtype: int64"
      ]
     },
     "execution_count": 5,
     "metadata": {},
     "output_type": "execute_result"
    }
   ],
   "source": [
    "data[\"class\"].value_counts()"
   ]
  },
  {
   "cell_type": "code",
   "execution_count": null,
   "id": "e46f4384",
   "metadata": {},
   "outputs": [],
   "source": [
    "label_to_class = dict()\n",
    "label_to_class[\"널링양품\"]\n",
    "label_to_class[\"널링양품\"]\n",
    "label_to_class[\"널링양품\"]\n",
    "label_to_class[\"널링양품\"]\n",
    "label_to_class[\"널링양품\"]\n",
    "label_to_class[\"널링양품\"]\n",
    "label_to_class[\"널링양품\"]\n",
    "label_to_class[\"널링양품\"]"
   ]
  }
 ],
 "metadata": {
  "kernelspec": {
   "display_name": "particle",
   "language": "python",
   "name": "particle"
  },
  "language_info": {
   "codemirror_mode": {
    "name": "ipython",
    "version": 3
   },
   "file_extension": ".py",
   "mimetype": "text/x-python",
   "name": "python",
   "nbconvert_exporter": "python",
   "pygments_lexer": "ipython3",
   "version": "3.8.13"
  }
 },
 "nbformat": 4,
 "nbformat_minor": 5
}
