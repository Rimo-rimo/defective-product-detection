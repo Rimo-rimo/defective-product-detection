{
 "cells": [
  {
   "cell_type": "code",
   "execution_count": 49,
   "metadata": {},
   "outputs": [],
   "source": [
    "import pandas as pd\n",
    "import os\n",
    "import unicodedata"
   ]
  },
  {
   "cell_type": "code",
   "execution_count": 67,
   "metadata": {},
   "outputs": [],
   "source": [
    "train = pd.read_csv(\"/Users/rimo/Documents/paper/data/train_csv.csv\")\n",
    "test = pd.read_csv(\"/Users/rimo/Documents/paper/data/test_csv.csv\")"
   ]
  },
  {
   "cell_type": "code",
   "execution_count": 68,
   "metadata": {},
   "outputs": [],
   "source": [
    "train[\"label\"] = train[\"label\"] -1\n",
    "test[\"label\"] = test[\"label\"] -1"
   ]
  },
  {
   "cell_type": "code",
   "execution_count": 69,
   "metadata": {},
   "outputs": [
    {
     "data": {
      "text/plain": [
       "(1962, 491)"
      ]
     },
     "execution_count": 69,
     "metadata": {},
     "output_type": "execute_result"
    }
   ],
   "source": [
    "len(train), len(test)"
   ]
  },
  {
   "cell_type": "code",
   "execution_count": 70,
   "metadata": {},
   "outputs": [
    {
     "data": {
      "text/plain": [
       "(array([ 0,  3,  1,  2, -1]), array([ 3,  0, -1,  2,  1]))"
      ]
     },
     "execution_count": 70,
     "metadata": {},
     "output_type": "execute_result"
    }
   ],
   "source": [
    "train[\"label\"].unique(), test[\"label\"].unique()"
   ]
  },
  {
   "cell_type": "code",
   "execution_count": 71,
   "metadata": {},
   "outputs": [],
   "source": [
    "train.to_csv(\"/Users/rimo/Documents/paper/data/train_csv_.csv\",index=False)\n",
    "test.to_csv(\"/Users/rimo/Documents/paper/data/test_csv_.csv\",index=False)"
   ]
  },
  {
   "cell_type": "code",
   "execution_count": 10,
   "metadata": {},
   "outputs": [
    {
     "data": {
      "text/plain": [
       "2453"
      ]
     },
     "execution_count": 10,
     "metadata": {},
     "output_type": "execute_result"
    }
   ],
   "source": [
    "len(images)"
   ]
  },
  {
   "cell_type": "code",
   "execution_count": 11,
   "metadata": {},
   "outputs": [
    {
     "data": {
      "text/plain": [
       "2453"
      ]
     },
     "execution_count": 11,
     "metadata": {},
     "output_type": "execute_result"
    }
   ],
   "source": [
    "len(train) + len(test)"
   ]
  },
  {
   "cell_type": "code",
   "execution_count": 27,
   "metadata": {},
   "outputs": [],
   "source": [
    "images_name = train[\"image_path\"].tolist() + test[\"image_path\"].tolist()"
   ]
  },
  {
   "cell_type": "code",
   "execution_count": 28,
   "metadata": {},
   "outputs": [],
   "source": [
    "images_name.sort()\n",
    "images.sort()"
   ]
  },
  {
   "cell_type": "code",
   "execution_count": 36,
   "metadata": {},
   "outputs": [
    {
     "data": {
      "text/plain": [
       "True"
      ]
     },
     "execution_count": 36,
     "metadata": {},
     "output_type": "execute_result"
    }
   ],
   "source": [
    "images[0] == unicodedata.normalize(\"NFD\",images_name[0])\n"
   ]
  },
  {
   "cell_type": "code",
   "execution_count": 25,
   "metadata": {},
   "outputs": [
    {
     "name": "stdout",
     "output_type": "stream",
     "text": [
      "Ch01_1448_널링양품_1.jpg\n"
     ]
    }
   ],
   "source": [
    "for i in images:\n",
    "    print(i)\n",
    "    break"
   ]
  },
  {
   "cell_type": "code",
   "execution_count": 41,
   "metadata": {},
   "outputs": [],
   "source": [
    "a = list(map(lambda x:unicodedata.normalize(\"NFD\",x), train[\"image_path\"].tolist()))"
   ]
  },
  {
   "cell_type": "code",
   "execution_count": 42,
   "metadata": {},
   "outputs": [],
   "source": [
    "train[\"imagess\"] = a"
   ]
  },
  {
   "cell_type": "code",
   "execution_count": 43,
   "metadata": {},
   "outputs": [
    {
     "data": {
      "text/html": [
       "<div>\n",
       "<style scoped>\n",
       "    .dataframe tbody tr th:only-of-type {\n",
       "        vertical-align: middle;\n",
       "    }\n",
       "\n",
       "    .dataframe tbody tr th {\n",
       "        vertical-align: top;\n",
       "    }\n",
       "\n",
       "    .dataframe thead th {\n",
       "        text-align: right;\n",
       "    }\n",
       "</style>\n",
       "<table border=\"1\" class=\"dataframe\">\n",
       "  <thead>\n",
       "    <tr style=\"text-align: right;\">\n",
       "      <th></th>\n",
       "      <th>image_path</th>\n",
       "      <th>label_path</th>\n",
       "      <th>anns</th>\n",
       "      <th>class</th>\n",
       "      <th>label</th>\n",
       "      <th>imagess</th>\n",
       "    </tr>\n",
       "  </thead>\n",
       "  <tbody>\n",
       "    <tr>\n",
       "      <th>0</th>\n",
       "      <td>Ch00_1391_널링양품_1.jpg</td>\n",
       "      <td>Ch00_1391_널링양품_1.txt</td>\n",
       "      <td>['0', '1']</td>\n",
       "      <td>널링양품</td>\n",
       "      <td>1</td>\n",
       "      <td>Ch00_1391_널링양품_1.jpg</td>\n",
       "    </tr>\n",
       "    <tr>\n",
       "      <th>1</th>\n",
       "      <td>Ch00_4707_널링찍힘_2.jpg</td>\n",
       "      <td>Ch00_4707_널링찍힘_2.txt</td>\n",
       "      <td>['2']</td>\n",
       "      <td>널링찍힘</td>\n",
       "      <td>4</td>\n",
       "      <td>Ch00_4707_널링찍힘_2.jpg</td>\n",
       "    </tr>\n",
       "    <tr>\n",
       "      <th>2</th>\n",
       "      <td>Ch01_283_널링이중선_2.jpg</td>\n",
       "      <td>Ch01_283_널링이중선_2.txt</td>\n",
       "      <td>['4']</td>\n",
       "      <td>널링이중선</td>\n",
       "      <td>2</td>\n",
       "      <td>Ch01_283_널링이중선_2.jpg</td>\n",
       "    </tr>\n",
       "    <tr>\n",
       "      <th>3</th>\n",
       "      <td>Ch00_416_널링밀림_1.jpg</td>\n",
       "      <td>Ch00_416_널링밀림_1.txt</td>\n",
       "      <td>['3']</td>\n",
       "      <td>널링밀림</td>\n",
       "      <td>3</td>\n",
       "      <td>Ch00_416_널링밀림_1.jpg</td>\n",
       "    </tr>\n",
       "    <tr>\n",
       "      <th>4</th>\n",
       "      <td>Ch00_1059_널링양품_1.jpg</td>\n",
       "      <td>Ch00_1059_널링양품_1.txt</td>\n",
       "      <td>['0', '1']</td>\n",
       "      <td>널링양품</td>\n",
       "      <td>1</td>\n",
       "      <td>Ch00_1059_널링양품_1.jpg</td>\n",
       "    </tr>\n",
       "    <tr>\n",
       "      <th>...</th>\n",
       "      <td>...</td>\n",
       "      <td>...</td>\n",
       "      <td>...</td>\n",
       "      <td>...</td>\n",
       "      <td>...</td>\n",
       "      <td>...</td>\n",
       "    </tr>\n",
       "    <tr>\n",
       "      <th>1957</th>\n",
       "      <td>Ch01_1255_널링양품_1.jpg</td>\n",
       "      <td>Ch01_1255_널링양품_1.txt</td>\n",
       "      <td>['0', '1']</td>\n",
       "      <td>널링양품</td>\n",
       "      <td>1</td>\n",
       "      <td>Ch01_1255_널링양품_1.jpg</td>\n",
       "    </tr>\n",
       "    <tr>\n",
       "      <th>1958</th>\n",
       "      <td>Ch00_4413_널링찍힘_2.jpg</td>\n",
       "      <td>Ch00_4413_널링찍힘_2.txt</td>\n",
       "      <td>['2']</td>\n",
       "      <td>널링찍힘</td>\n",
       "      <td>4</td>\n",
       "      <td>Ch00_4413_널링찍힘_2.jpg</td>\n",
       "    </tr>\n",
       "    <tr>\n",
       "      <th>1959</th>\n",
       "      <td>Ch00_5234_리벳미압입_2.jpg</td>\n",
       "      <td>Ch00_5234_리벳미압입_2.txt</td>\n",
       "      <td>['0', '1']</td>\n",
       "      <td>리벳미압입</td>\n",
       "      <td>0</td>\n",
       "      <td>Ch00_5234_리벳미압입_2.jpg</td>\n",
       "    </tr>\n",
       "    <tr>\n",
       "      <th>1960</th>\n",
       "      <td>Ch01_1384_널링양품_1.jpg</td>\n",
       "      <td>Ch01_1384_널링양품_1.txt</td>\n",
       "      <td>['0', '1']</td>\n",
       "      <td>널링양품</td>\n",
       "      <td>1</td>\n",
       "      <td>Ch01_1384_널링양품_1.jpg</td>\n",
       "    </tr>\n",
       "    <tr>\n",
       "      <th>1961</th>\n",
       "      <td>Ch00_484_널링밀림_3.jpg</td>\n",
       "      <td>Ch00_484_널링밀림_3.txt</td>\n",
       "      <td>['3']</td>\n",
       "      <td>널링밀림</td>\n",
       "      <td>3</td>\n",
       "      <td>Ch00_484_널링밀림_3.jpg</td>\n",
       "    </tr>\n",
       "  </tbody>\n",
       "</table>\n",
       "<p>1962 rows × 6 columns</p>\n",
       "</div>"
      ],
      "text/plain": [
       "                 image_path             label_path        anns  class  label  \\\n",
       "0      Ch00_1391_널링양품_1.jpg   Ch00_1391_널링양품_1.txt  ['0', '1']   널링양품      1   \n",
       "1      Ch00_4707_널링찍힘_2.jpg   Ch00_4707_널링찍힘_2.txt       ['2']   널링찍힘      4   \n",
       "2      Ch01_283_널링이중선_2.jpg   Ch01_283_널링이중선_2.txt       ['4']  널링이중선      2   \n",
       "3       Ch00_416_널링밀림_1.jpg    Ch00_416_널링밀림_1.txt       ['3']   널링밀림      3   \n",
       "4      Ch00_1059_널링양품_1.jpg   Ch00_1059_널링양품_1.txt  ['0', '1']   널링양품      1   \n",
       "...                     ...                    ...         ...    ...    ...   \n",
       "1957   Ch01_1255_널링양품_1.jpg   Ch01_1255_널링양품_1.txt  ['0', '1']   널링양품      1   \n",
       "1958   Ch00_4413_널링찍힘_2.jpg   Ch00_4413_널링찍힘_2.txt       ['2']   널링찍힘      4   \n",
       "1959  Ch00_5234_리벳미압입_2.jpg  Ch00_5234_리벳미압입_2.txt  ['0', '1']  리벳미압입      0   \n",
       "1960   Ch01_1384_널링양품_1.jpg   Ch01_1384_널링양품_1.txt  ['0', '1']   널링양품      1   \n",
       "1961    Ch00_484_널링밀림_3.jpg    Ch00_484_널링밀림_3.txt       ['3']   널링밀림      3   \n",
       "\n",
       "                            imagess  \n",
       "0      Ch00_1391_널링양품_1.jpg  \n",
       "1      Ch00_4707_널링찍힘_2.jpg  \n",
       "2     Ch01_283_널링이중선_2.jpg  \n",
       "3       Ch00_416_널링밀림_1.jpg  \n",
       "4      Ch00_1059_널링양품_1.jpg  \n",
       "...                             ...  \n",
       "1957   Ch01_1255_널링양품_1.jpg  \n",
       "1958   Ch00_4413_널링찍힘_2.jpg  \n",
       "1959  Ch00_5234_리벳미압입_2.jpg  \n",
       "1960   Ch01_1384_널링양품_1.jpg  \n",
       "1961    Ch00_484_널링밀림_3.jpg  \n",
       "\n",
       "[1962 rows x 6 columns]"
      ]
     },
     "execution_count": 43,
     "metadata": {},
     "output_type": "execute_result"
    }
   ],
   "source": [
    "train"
   ]
  },
  {
   "cell_type": "code",
   "execution_count": 47,
   "metadata": {},
   "outputs": [
    {
     "data": {
      "text/plain": [
       "'Ch01_283_널링이중선_2.jpg'"
      ]
     },
     "execution_count": 47,
     "metadata": {},
     "output_type": "execute_result"
    }
   ],
   "source": [
    "train[\"image_path\"][2]"
   ]
  },
  {
   "cell_type": "code",
   "execution_count": 48,
   "metadata": {},
   "outputs": [
    {
     "data": {
      "text/plain": [
       "array([1, 4, 2, 3, 0])"
      ]
     },
     "execution_count": 48,
     "metadata": {},
     "output_type": "execute_result"
    }
   ],
   "source": [
    "train[\"label\"].unique()"
   ]
  },
  {
   "cell_type": "code",
   "execution_count": null,
   "metadata": {},
   "outputs": [],
   "source": []
  }
 ],
 "metadata": {
  "kernelspec": {
   "display_name": "particle",
   "language": "python",
   "name": "python3"
  },
  "language_info": {
   "codemirror_mode": {
    "name": "ipython",
    "version": 3
   },
   "file_extension": ".py",
   "mimetype": "text/x-python",
   "name": "python",
   "nbconvert_exporter": "python",
   "pygments_lexer": "ipython3",
   "version": "3.8.13"
  },
  "orig_nbformat": 4,
  "vscode": {
   "interpreter": {
    "hash": "515123c40d576b8cafb07429bcccbbd0f72c79aff9bd6b50b9059a4e92bce6eb"
   }
  }
 },
 "nbformat": 4,
 "nbformat_minor": 2
}
